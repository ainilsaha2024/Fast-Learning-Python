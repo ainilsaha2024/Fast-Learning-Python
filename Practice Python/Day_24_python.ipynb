{
 "cells": [
  {
   "cell_type": "markdown",
   "metadata": {},
   "source": [
    "# File Handlling in python "
   ]
  },
  {
   "cell_type": "markdown",
   "metadata": {},
   "source": [
    "Before reading from a file, you need to make sure the file exists. This example will show you how to open a text file and read its contents line by line, which is useful for processing files that are too large to fit into memory all at once."
   ]
  },
  {
   "cell_type": "code",
   "execution_count": 13,
   "metadata": {},
   "outputs": [
    {
     "name": "stdout",
     "output_type": "stream",
     "text": [
      "my name is sapnil saha niloy .i'm a new programmer\n"
     ]
    }
   ],
   "source": [
    "with open('py1.txt', 'r') as file:\n",
    "    # Read each line in the file one at a time\n",
    "    for line in file:\n",
    "        # Process each line\n",
    "        print(line.strip())  # The strip() method removes any leading/trailing whitespace & newline character"
   ]
  },
  {
   "cell_type": "markdown",
   "metadata": {},
   "source": [
    "# Example 2: Writing Text to a File"
   ]
  },
  {
   "cell_type": "markdown",
   "metadata": {},
   "source": [
    "Write strings to a file, which is useful for logging, saving outputs, etc. We'll open a file in write mode ('w'), which creates the file if it doesn't exist or truncates it if it does."
   ]
  },
  {
   "cell_type": "code",
   "execution_count": 14,
   "metadata": {},
   "outputs": [],
   "source": [
    "lines_to_write = [\" i'm 19 . i'm try to my code deeply\"]"
   ]
  },
  {
   "cell_type": "code",
   "execution_count": 15,
   "metadata": {},
   "outputs": [],
   "source": [
    "# Open the file in write mode ('w')\n",
    "with open('py2.txt', 'w') as file:\n",
    "    for line in lines_to_write:\n",
    "        # Write each line to the file with a newline character at the end\n",
    "        file.write(line + '\\n')"
   ]
  },
  {
   "cell_type": "markdown",
   "metadata": {},
   "source": [
    "Using file.write() allows you to add text to a file. If you need to write multiple lines, you might use file.writelines() where you can pass a list of strings"
   ]
  },
  {
   "cell_type": "code",
   "execution_count": 16,
   "metadata": {},
   "outputs": [],
   "source": [
    "# Open the file in write mode ('w')\n",
    "with open('py2.txt', 'w') as file:\n",
    "    for line in lines_to_write:\n",
    "        # Write each line to the file with a newline character at the end\n",
    "        file.write(line + '\\n')"
   ]
  },
  {
   "cell_type": "markdown",
   "metadata": {},
   "source": [
    "# Example 3: Appending Text to an Existing File"
   ]
  },
  {
   "cell_type": "code",
   "execution_count": 17,
   "metadata": {},
   "outputs": [],
   "source": [
    "new_text1 = ['Learn data science smartly', 'AI is Future']\n",
    "\n",
    "# Open the file in append mode ('a')\n",
    "with open('py22.txt', 'a') as file:\n",
    "    for line in new_text1:\n",
    "        # Append each line to the file\n",
    "        file.write(line + '\\n')"
   ]
  }
 ],
 "metadata": {
  "kernelspec": {
   "display_name": "myenv",
   "language": "python",
   "name": "python3"
  },
  "language_info": {
   "codemirror_mode": {
    "name": "ipython",
    "version": 3
   },
   "file_extension": ".py",
   "mimetype": "text/x-python",
   "name": "python",
   "nbconvert_exporter": "python",
   "pygments_lexer": "ipython3",
   "version": "3.13.1"
  }
 },
 "nbformat": 4,
 "nbformat_minor": 2
}
