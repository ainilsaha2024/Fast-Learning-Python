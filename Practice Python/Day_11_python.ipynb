{
 "cells": [
  {
   "cell_type": "markdown",
   "metadata": {},
   "source": [
    "# python dictionary { } \"keys\" : \"values\" \n",
    "Dictionary changeable and ordered but no duplicate "
   ]
  },
  {
   "cell_type": "code",
   "execution_count": 3,
   "metadata": {},
   "outputs": [
    {
     "name": "stdout",
     "output_type": "stream",
     "text": [
      "{'name': 'Sapnil Saha Niloy', 'collage': 'RGC'}\n",
      "<class 'dict'>\n"
     ]
    }
   ],
   "source": [
    "dic = {\n",
    "    \"name\" : \"Sapnil Saha Niloy\", #comma syntax use dict type data \n",
    "    \"collage\" : \"RGC\"\n",
    "}\n",
    "print (dic)#full dictionary var output result \n",
    "print(type(dic)) #dict means Dictionary type data "
   ]
  },
  {
   "cell_type": "code",
   "execution_count": 2,
   "metadata": {},
   "outputs": [
    {
     "data": {
      "text/plain": [
       "dict_keys(['name', 'collage'])"
      ]
     },
     "execution_count": 2,
     "metadata": {},
     "output_type": "execute_result"
    }
   ],
   "source": [
    "dic.keys() # dic var keys mathods and see result "
   ]
  },
  {
   "cell_type": "code",
   "execution_count": 5,
   "metadata": {},
   "outputs": [
    {
     "data": {
      "text/plain": [
       "dict_values(['Sapnil Saha Niloy', 'RGC'])"
      ]
     },
     "execution_count": 5,
     "metadata": {},
     "output_type": "execute_result"
    }
   ],
   "source": [
    "dic.values() # dic var values mathods and see result "
   ]
  },
  {
   "cell_type": "code",
   "execution_count": 7,
   "metadata": {},
   "outputs": [
    {
     "name": "stdout",
     "output_type": "stream",
     "text": [
      "{'name': 'Sapnil Saha Niloy', 'collage': 'RGC'}\n"
     ]
    }
   ],
   "source": [
    "#copy ( ) mathods dictionary type data \n",
    "dic1 = dic.copy()\n",
    "print(dic1)"
   ]
  },
  {
   "cell_type": "code",
   "execution_count": 8,
   "metadata": {},
   "outputs": [
    {
     "name": "stdout",
     "output_type": "stream",
     "text": [
      "{'name': 'Sapnil Saha Niloy', 'collage': 'DIU'}\n"
     ]
    }
   ],
   "source": [
    "#dictionary type data change values [\"keys\"]=\"values\"\n",
    "dic[\"collage\"]= \"DIU\" \n",
    "print(dic) #look result \n"
   ]
  },
  {
   "cell_type": "code",
   "execution_count": 12,
   "metadata": {},
   "outputs": [
    {
     "name": "stdout",
     "output_type": "stream",
     "text": [
      "{'name': 'Sapnil Saha Niloy', 'collage': 'DIU', 'Dept': 'Science'}\n"
     ]
    }
   ],
   "source": [
    "# dic var dictionary add some keys and values \n",
    "dic[\"Dept\"]= \"Science\" # sytnax = use add some \n",
    "print(dic) #look result \n"
   ]
  },
  {
   "cell_type": "code",
   "execution_count": 13,
   "metadata": {},
   "outputs": [
    {
     "name": "stdout",
     "output_type": "stream",
     "text": [
      "{'name': 'Sapnil Saha Niloy', 'collage': 'DIU', 'Dept': 'Science', 'dept': 'Data Science'}\n"
     ]
    }
   ],
   "source": [
    "#update mathods useing dictionary dic.uptate ({\"keys\":\"values\"})\n",
    "dic.update({\"dept\":\"Data Science\"})\n",
    "print(dic) #look uddate Data Science "
   ]
  },
  {
   "cell_type": "code",
   "execution_count": 18,
   "metadata": {},
   "outputs": [
    {
     "name": "stdout",
     "output_type": "stream",
     "text": [
      "{'name': 'Sapnil Saha Niloy', 'collage': 'DIU', 'Dept': 'Science'}\n"
     ]
    }
   ],
   "source": [
    "#dictionary type data last keys and values deleated use dic.popitem( )mathods\n",
    "#dic.popitem()\n",
    "print(dic) #look result "
   ]
  },
  {
   "cell_type": "code",
   "execution_count": 22,
   "metadata": {},
   "outputs": [
    {
     "name": "stdout",
     "output_type": "stream",
     "text": [
      "{'name': 'Sapnil Saha Niloy', 'collage': 'DIU'}\n"
     ]
    }
   ],
   "source": [
    "#deleated one keys and values use pop()mathods\n",
    "dic.pop(\"Dept\") #dept keys : values deleted useing pop() mathods \n",
    "print(dic)"
   ]
  },
  {
   "cell_type": "code",
   "execution_count": null,
   "metadata": {},
   "outputs": [],
   "source": [
    "#deleated del dic[\"keys\"] mathods  useing \n",
    "del dic [\"collage\"]\n",
    "print(dic) #show result \"collage keys\":\"DIU\""
   ]
  },
  {
   "cell_type": "code",
   "execution_count": 28,
   "metadata": {},
   "outputs": [
    {
     "name": "stdout",
     "output_type": "stream",
     "text": [
      "{'name': 'Sapnil Saha Niloy', 'collage': 'RGC'}\n"
     ]
    }
   ],
   "source": [
    "print(dic1) #copy( ) dic1 var "
   ]
  },
  {
   "cell_type": "markdown",
   "metadata": {},
   "source": [
    "# loop dictionary "
   ]
  },
  {
   "cell_type": "code",
   "execution_count": 30,
   "metadata": {},
   "outputs": [
    {
     "name": "stdout",
     "output_type": "stream",
     "text": [
      "Sapnil Saha Niloy\n",
      "RGC\n"
     ]
    }
   ],
   "source": [
    "# just i need a all values / keys show useing loop \n",
    "for i in dic1:\n",
    "    print(dic1[i]) #show result dict1 all values useing loop \n",
    "\n"
   ]
  },
  {
   "cell_type": "code",
   "execution_count": 31,
   "metadata": {},
   "outputs": [
    {
     "name": "stdout",
     "output_type": "stream",
     "text": [
      "name\n",
      "collage\n"
     ]
    }
   ],
   "source": [
    "# just i need a all key \n",
    "for i in dic1:\n",
    "    print(i)#just call loop var i and see all keys"
   ]
  },
  {
   "cell_type": "code",
   "execution_count": 32,
   "metadata": {},
   "outputs": [
    {
     "name": "stdout",
     "output_type": "stream",
     "text": [
      "['name', 'collage']\n"
     ]
    }
   ],
   "source": [
    "#dictionary to convert list type data \n",
    "l=list(dic1.keys()) #l = list mathods (dic1.keys( )) \n",
    "print(l) #dictonary to list result \n"
   ]
  },
  {
   "cell_type": "code",
   "execution_count": 34,
   "metadata": {},
   "outputs": [
    {
     "name": "stdout",
     "output_type": "stream",
     "text": [
      "['Sapnil Saha Niloy', 'RGC']\n"
     ]
    }
   ],
   "source": [
    "l1 = list(dic1.values()) # l2 = list(dic1.values())\n",
    "print (l1) #values result dic1 "
   ]
  },
  {
   "cell_type": "markdown",
   "metadata": {},
   "source": [
    "# dictionary user inpute  "
   ]
  },
  {
   "cell_type": "code",
   "execution_count": 35,
   "metadata": {},
   "outputs": [
    {
     "name": "stdout",
     "output_type": "stream",
     "text": [
      "{'name': 'dept', 'data science': 'dept2', 'ai': ''}\n"
     ]
    }
   ],
   "source": [
    "#n = int(input(\"enter your dict number\"))\n",
    "#d ={ }\n",
    "#for i in range(n):\n",
    "    #keys = input( )\n",
    "    #values = input ( )\n",
    "    #d [keys] = values \n",
    "#print(d)\n"
   ]
  },
  {
   "cell_type": "code",
   "execution_count": 36,
   "metadata": {},
   "outputs": [
    {
     "name": "stdout",
     "output_type": "stream",
     "text": [
      "{'name': 'dept', 'data science': 'dept2', 'ai': ''}\n"
     ]
    }
   ],
   "source": [
    "print(d)"
   ]
  }
 ],
 "metadata": {
  "kernelspec": {
   "display_name": "myenv",
   "language": "python",
   "name": "python3"
  },
  "language_info": {
   "codemirror_mode": {
    "name": "ipython",
    "version": 3
   },
   "file_extension": ".py",
   "mimetype": "text/x-python",
   "name": "python",
   "nbconvert_exporter": "python",
   "pygments_lexer": "ipython3",
   "version": "3.13.1"
  }
 },
 "nbformat": 4,
 "nbformat_minor": 2
}
