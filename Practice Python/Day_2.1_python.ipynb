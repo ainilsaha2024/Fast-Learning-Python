{
 "cells": [
  {
   "cell_type": "markdown",
   "metadata": {},
   "source": [
    "Data frame python (pandas)"
   ]
  },
  {
   "cell_type": "code",
   "execution_count": 1,
   "metadata": {},
   "outputs": [
    {
     "data": {
      "text/html": [
       "<div>\n",
       "<style scoped>\n",
       "    .dataframe tbody tr th:only-of-type {\n",
       "        vertical-align: middle;\n",
       "    }\n",
       "\n",
       "    .dataframe tbody tr th {\n",
       "        vertical-align: top;\n",
       "    }\n",
       "\n",
       "    .dataframe thead th {\n",
       "        text-align: right;\n",
       "    }\n",
       "</style>\n",
       "<table border=\"1\" class=\"dataframe\">\n",
       "  <thead>\n",
       "    <tr style=\"text-align: right;\">\n",
       "      <th></th>\n",
       "      <th>id</th>\n",
       "      <th>name</th>\n",
       "      <th>nationality</th>\n",
       "      <th>city</th>\n",
       "      <th>latitude</th>\n",
       "      <th>longitude</th>\n",
       "      <th>gender</th>\n",
       "      <th>ethnic.group</th>\n",
       "      <th>age</th>\n",
       "      <th>english.grade</th>\n",
       "      <th>math.grade</th>\n",
       "      <th>sciences.grade</th>\n",
       "      <th>language.grade</th>\n",
       "      <th>portfolio.rating</th>\n",
       "      <th>coverletter.rating</th>\n",
       "      <th>refletter.rating</th>\n",
       "    </tr>\n",
       "  </thead>\n",
       "  <tbody>\n",
       "    <tr>\n",
       "      <th>0</th>\n",
       "      <td>0</td>\n",
       "      <td>Kiana Lor</td>\n",
       "      <td>China</td>\n",
       "      <td>Suzhou</td>\n",
       "      <td>31.31</td>\n",
       "      <td>120.62</td>\n",
       "      <td>F</td>\n",
       "      <td>NaN</td>\n",
       "      <td>22</td>\n",
       "      <td>3.5</td>\n",
       "      <td>3.7</td>\n",
       "      <td>3.1</td>\n",
       "      <td>1.0</td>\n",
       "      <td>4</td>\n",
       "      <td>4.0</td>\n",
       "      <td>4</td>\n",
       "    </tr>\n",
       "    <tr>\n",
       "      <th>1</th>\n",
       "      <td>1</td>\n",
       "      <td>Joshua Lonaker</td>\n",
       "      <td>United States of America</td>\n",
       "      <td>Santa Clarita</td>\n",
       "      <td>34.39</td>\n",
       "      <td>-118.54</td>\n",
       "      <td>M</td>\n",
       "      <td>NaN</td>\n",
       "      <td>22</td>\n",
       "      <td>2.9</td>\n",
       "      <td>3.2</td>\n",
       "      <td>3.6</td>\n",
       "      <td>5.0</td>\n",
       "      <td>5</td>\n",
       "      <td>4.0</td>\n",
       "      <td>5</td>\n",
       "    </tr>\n",
       "    <tr>\n",
       "      <th>2</th>\n",
       "      <td>2</td>\n",
       "      <td>Dakota Blanco</td>\n",
       "      <td>United States of America</td>\n",
       "      <td>Oakland</td>\n",
       "      <td>37.80</td>\n",
       "      <td>-122.27</td>\n",
       "      <td>F</td>\n",
       "      <td>NaN</td>\n",
       "      <td>22</td>\n",
       "      <td>3.9</td>\n",
       "      <td>3.8</td>\n",
       "      <td>3.2</td>\n",
       "      <td>5.0</td>\n",
       "      <td>3</td>\n",
       "      <td>3.0</td>\n",
       "      <td>4</td>\n",
       "    </tr>\n",
       "    <tr>\n",
       "      <th>3</th>\n",
       "      <td>3</td>\n",
       "      <td>Natasha Yarusso</td>\n",
       "      <td>United States of America</td>\n",
       "      <td>Castro Valley</td>\n",
       "      <td>37.69</td>\n",
       "      <td>-122.09</td>\n",
       "      <td>F</td>\n",
       "      <td>NaN</td>\n",
       "      <td>20</td>\n",
       "      <td>3.3</td>\n",
       "      <td>2.8</td>\n",
       "      <td>3.2</td>\n",
       "      <td>5.0</td>\n",
       "      <td>5</td>\n",
       "      <td>2.0</td>\n",
       "      <td>4</td>\n",
       "    </tr>\n",
       "    <tr>\n",
       "      <th>4</th>\n",
       "      <td>4</td>\n",
       "      <td>Brooke Cazares</td>\n",
       "      <td>Brazil</td>\n",
       "      <td>São José dos Campos</td>\n",
       "      <td>-23.18</td>\n",
       "      <td>-45.88</td>\n",
       "      <td>F</td>\n",
       "      <td>NaN</td>\n",
       "      <td>21</td>\n",
       "      <td>3.7</td>\n",
       "      <td>2.6</td>\n",
       "      <td>3.4</td>\n",
       "      <td>1.0</td>\n",
       "      <td>4</td>\n",
       "      <td>4.0</td>\n",
       "      <td>5</td>\n",
       "    </tr>\n",
       "  </tbody>\n",
       "</table>\n",
       "</div>"
      ],
      "text/plain": [
       "   id             name               nationality                 city  \\\n",
       "0   0        Kiana Lor                     China               Suzhou   \n",
       "1   1   Joshua Lonaker  United States of America        Santa Clarita   \n",
       "2   2    Dakota Blanco  United States of America              Oakland   \n",
       "3   3  Natasha Yarusso  United States of America        Castro Valley   \n",
       "4   4   Brooke Cazares                    Brazil  São José dos Campos   \n",
       "\n",
       "   latitude  longitude gender  ethnic.group  age  english.grade  math.grade  \\\n",
       "0     31.31     120.62      F           NaN   22            3.5         3.7   \n",
       "1     34.39    -118.54      M           NaN   22            2.9         3.2   \n",
       "2     37.80    -122.27      F           NaN   22            3.9         3.8   \n",
       "3     37.69    -122.09      F           NaN   20            3.3         2.8   \n",
       "4    -23.18     -45.88      F           NaN   21            3.7         2.6   \n",
       "\n",
       "   sciences.grade  language.grade  portfolio.rating  coverletter.rating  \\\n",
       "0             3.1             1.0                 4                 4.0   \n",
       "1             3.6             5.0                 5                 4.0   \n",
       "2             3.2             5.0                 3                 3.0   \n",
       "3             3.2             5.0                 5                 2.0   \n",
       "4             3.4             1.0                 4                 4.0   \n",
       "\n",
       "   refletter.rating  \n",
       "0                 4  \n",
       "1                 5  \n",
       "2                 4  \n",
       "3                 4  \n",
       "4                 5  "
      ]
     },
     "execution_count": 1,
     "metadata": {},
     "output_type": "execute_result"
    }
   ],
   "source": [
    "import pandas as pd #new tarminal pip install pandas \n",
    "\n",
    "df = pd.read_csv(\"use-2.1-day-student-dataset.csv\") #fast dnlw cvs file and past csv file main folder \n",
    "df.head() #this use to rest csv file head show just 0 index to 4"
   ]
  },
  {
   "cell_type": "code",
   "execution_count": 3,
   "metadata": {},
   "outputs": [
    {
     "data": {
      "text/plain": [
       "(307, 16)"
      ]
     },
     "execution_count": 3,
     "metadata": {},
     "output_type": "execute_result"
    }
   ],
   "source": [
    "df.shape # not use function ( ) this use to function fast number show row 2nd number show cloumns csv file result"
   ]
  },
  {
   "cell_type": "code",
   "execution_count": 4,
   "metadata": {},
   "outputs": [
    {
     "name": "stdout",
     "output_type": "stream",
     "text": [
      "<class 'pandas.core.frame.DataFrame'>\n",
      "RangeIndex: 307 entries, 0 to 306\n",
      "Data columns (total 16 columns):\n",
      " #   Column              Non-Null Count  Dtype  \n",
      "---  ------              --------------  -----  \n",
      " 0   id                  307 non-null    int64  \n",
      " 1   name                307 non-null    object \n",
      " 2   nationality         307 non-null    object \n",
      " 3   city                307 non-null    object \n",
      " 4   latitude            307 non-null    float64\n",
      " 5   longitude           307 non-null    float64\n",
      " 6   gender              307 non-null    object \n",
      " 7   ethnic.group        0 non-null      float64\n",
      " 8   age                 307 non-null    int64  \n",
      " 9   english.grade       307 non-null    float64\n",
      " 10  math.grade          307 non-null    float64\n",
      " 11  sciences.grade      307 non-null    float64\n",
      " 12  language.grade      307 non-null    float64\n",
      " 13  portfolio.rating    307 non-null    int64  \n",
      " 14  coverletter.rating  307 non-null    float64\n",
      " 15  refletter.rating    307 non-null    int64  \n",
      "dtypes: float64(8), int64(4), object(4)\n",
      "memory usage: 38.5+ KB\n"
     ]
    }
   ],
   "source": [
    "df.info() #this info mathods data type result show pandas csv file "
   ]
  },
  {
   "cell_type": "code",
   "execution_count": 5,
   "metadata": {},
   "outputs": [
    {
     "name": "stdout",
     "output_type": "stream",
     "text": [
      "<class 'bytearray'>\n"
     ]
    }
   ],
   "source": [
    "#binary type data\n",
    "ML =bytearray(\"ABCDEF\",\"utf-8\") #bytearray data function str type data test utf-8\n",
    "print(type(ML))#result show "
   ]
  },
  {
   "cell_type": "code",
   "execution_count": 6,
   "metadata": {},
   "outputs": [
    {
     "name": "stdout",
     "output_type": "stream",
     "text": [
      "<memory at 0x0000026742A36BC0>\n"
     ]
    }
   ],
   "source": [
    "print(memoryview(ML))# memoryview result show"
   ]
  },
  {
   "cell_type": "code",
   "execution_count": 7,
   "metadata": {},
   "outputs": [
    {
     "name": "stdout",
     "output_type": "stream",
     "text": [
      "65\n"
     ]
    }
   ],
   "source": [
    "print(memoryview(ML)[0]) # ML = A index 0 ascii code bynary capital  A 65"
   ]
  },
  {
   "cell_type": "code",
   "execution_count": 8,
   "metadata": {},
   "outputs": [],
   "source": [
    "Ai = memoryview(ML)# Ai var Ml and repleas ml index 0 Ai [0] var\n",
    "Ai[0]= 97"
   ]
  },
  {
   "cell_type": "code",
   "execution_count": 9,
   "metadata": {},
   "outputs": [
    {
     "name": "stdout",
     "output_type": "stream",
     "text": [
      "97\n"
     ]
    }
   ],
   "source": [
    "print(Ai[0])#result Ai var index [0] 97 mean ascii code bynary small a "
   ]
  },
  {
   "cell_type": "code",
   "execution_count": 10,
   "metadata": {},
   "outputs": [
    {
     "name": "stdout",
     "output_type": "stream",
     "text": [
      "bytearray(b'aBCDEF')\n"
     ]
    }
   ],
   "source": [
    "print(bytearray(Ai))#show result small code a "
   ]
  },
  {
   "cell_type": "code",
   "execution_count": null,
   "metadata": {},
   "outputs": [],
   "source": []
  },
  {
   "cell_type": "code",
   "execution_count": null,
   "metadata": {},
   "outputs": [],
   "source": []
  },
  {
   "cell_type": "code",
   "execution_count": null,
   "metadata": {},
   "outputs": [],
   "source": []
  },
  {
   "cell_type": "code",
   "execution_count": null,
   "metadata": {},
   "outputs": [],
   "source": []
  }
 ],
 "metadata": {
  "kernelspec": {
   "display_name": "myenv",
   "language": "python",
   "name": "python3"
  },
  "language_info": {
   "codemirror_mode": {
    "name": "ipython",
    "version": 3
   },
   "file_extension": ".py",
   "mimetype": "text/x-python",
   "name": "python",
   "nbconvert_exporter": "python",
   "pygments_lexer": "ipython3",
   "version": "3.13.1"
  }
 },
 "nbformat": 4,
 "nbformat_minor": 2
}
