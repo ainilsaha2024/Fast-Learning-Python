{
 "cells": [
  {
   "cell_type": "markdown",
   "metadata": {},
   "source": [
    "Python List Mathods elemetns changeable"
   ]
  },
  {
   "cell_type": "code",
   "execution_count": 33,
   "metadata": {},
   "outputs": [
    {
     "name": "stdout",
     "output_type": "stream",
     "text": [
      "<class 'list'>\n"
     ]
    }
   ],
   "source": [
    "# list data all data type allow \n",
    "\n",
    "my_list = [ 1,2,3,4,'ml',2.5,2025,(\"ai\" ,\"dl\",4,3,2,1 ) ,{ \"nil\",\"niloy\", \"nilu \"}]\n",
    "print(type(my_list))"
   ]
  },
  {
   "cell_type": "code",
   "execution_count": 34,
   "metadata": {},
   "outputs": [
    {
     "name": "stdout",
     "output_type": "stream",
     "text": [
      "9\n"
     ]
    }
   ],
   "source": [
    "print(len(my_list))"
   ]
  },
  {
   "cell_type": "code",
   "execution_count": 35,
   "metadata": {},
   "outputs": [
    {
     "data": {
      "text/plain": [
       "('ai', 'dl', 4, 3, 2, 1)"
      ]
     },
     "execution_count": 35,
     "metadata": {},
     "output_type": "execute_result"
    }
   ],
   "source": [
    "my_list[7]"
   ]
  },
  {
   "cell_type": "code",
   "execution_count": 47,
   "metadata": {},
   "outputs": [
    {
     "name": "stdout",
     "output_type": "stream",
     "text": [
      "[1, 2, 3, 4, 'data', 2.5, 2025, ('ai', 'dl', 4, 3, 2, 1), {'nilu ', 'nil', 'niloy'}]\n",
      "[1, 2, 3, 4, 'data', 2.5, 2025, ('ai', 'dl', 4, 3, 2, 1), {'nilu ', 'nil', 'niloy'}]\n",
      "[1, 2, 3, 4, 'data', 2.5, 2025, ('ai', 'dl', 4, 3, 2, 1), {'nilu ', 'nil', 'niloy'}]\n",
      "[1, 2, 3, 4, 'data', 2.5, 2025, ('ai', 'dl', 4, 3, 2, 1), {'nilu ', 'nil', 'niloy'}]\n",
      "[1, 2, 3, 4, 'data', 2.5, 2025, ('ai', 'dl', 4, 3, 2, 1), {'nilu ', 'nil', 'niloy'}]\n"
     ]
    }
   ],
   "source": [
    "#copy Mathods list [ ]\n",
    "print(my_list)\n",
    "\n",
    "my_list2 = my_list\n",
    "\n",
    "print(my_list2)\n",
    "my_list[4]=\"data\"\n",
    "\n",
    "my_list3=my_list.copy()\n",
    "print(my_list)\n",
    "print(my_list2)\n",
    "print(my_list3)"
   ]
  },
  {
   "cell_type": "code",
   "execution_count": 64,
   "metadata": {},
   "outputs": [
    {
     "name": "stdout",
     "output_type": "stream",
     "text": [
      "[1, 2, 3, 4, 'data', 2.5, 2025, ('ai', 'dl', 4, 3, 2, 1), {'nilu ', 'nil', 'niloy'}, [100, 200]]\n"
     ]
    }
   ],
   "source": [
    "#append mathods list [ ]\n",
    "l1=[100,200]\n",
    "#my_list.append(l1)\n",
    "print(my_list)"
   ]
  },
  {
   "cell_type": "code",
   "execution_count": 65,
   "metadata": {},
   "outputs": [
    {
     "data": {
      "text/plain": [
       "[100, 200]"
      ]
     },
     "execution_count": 65,
     "metadata": {},
     "output_type": "execute_result"
    }
   ],
   "source": [
    "my_list[-1]"
   ]
  },
  {
   "cell_type": "code",
   "execution_count": 71,
   "metadata": {},
   "outputs": [
    {
     "name": "stdout",
     "output_type": "stream",
     "text": [
      "[1, 2, 3, 4, 'data', 2.5, 2025, ('ai', 'dl', 4, 3, 2, 1), {'nilu ', 'nil', 'niloy'}, [100, 200], 10, 20, 30]\n"
     ]
    },
    {
     "data": {
      "text/plain": [
       "10"
      ]
     },
     "execution_count": 71,
     "metadata": {},
     "output_type": "execute_result"
    }
   ],
   "source": [
    "#extend mathods list [ ]\n",
    "l2 = [10,20,30]\n",
    "#my_list.extend(l2)\n",
    "print(my_list)\n",
    "my_list[ -1] \n",
    "my_list[-3]"
   ]
  },
  {
   "cell_type": "code",
   "execution_count": 72,
   "metadata": {},
   "outputs": [
    {
     "name": "stdout",
     "output_type": "stream",
     "text": [
      "[1, 2, 3, 4, 'data', 'float data', 2.5, 2025, ('ai', 'dl', 4, 3, 2, 1), {'nilu ', 'nil', 'niloy'}, [100, 200], 10, 20, 30]\n"
     ]
    }
   ],
   "source": [
    "#insert mathods list []\n",
    "my_list.insert(5,\"float data\") #insert math fast index number the what data type value add you\n",
    "print(my_list) "
   ]
  },
  {
   "cell_type": "code",
   "execution_count": 83,
   "metadata": {},
   "outputs": [
    {
     "data": {
      "text/plain": [
       "9"
      ]
     },
     "execution_count": 83,
     "metadata": {},
     "output_type": "execute_result"
    }
   ],
   "source": [
    "#index mathods list [ ]\n",
    "my_list.index({'nilu ', 'nil', 'niloy'}) # show result index number "
   ]
  },
  {
   "cell_type": "code",
   "execution_count": 116,
   "metadata": {},
   "outputs": [
    {
     "name": "stdout",
     "output_type": "stream",
     "text": [
      "<class 'list'>\n"
     ]
    },
    {
     "data": {
      "text/plain": [
       "2"
      ]
     },
     "execution_count": 116,
     "metadata": {},
     "output_type": "execute_result"
    }
   ],
   "source": [
    "#count mathods list [ ]\n",
    "x = [ 1,1,2,3,3,4,(\"nil\",\"nilu\",\"saha\"),{\"JU\",\"DU\",\"CU\",\"RU\"},(\"nil\",\"nilu\",\"saha\"),{\"JU\",\"DU\",\"CU\",\"RU\"},40,500,500,30,20]\n",
    "print(type(x))\n",
    "x.count({\"JU\",\"DU\",\"DU\",\"CU\",\"RU\",\"RU\"}) #set type data list in 2 more so count result 2 "
   ]
  },
  {
   "cell_type": "code",
   "execution_count": 113,
   "metadata": {},
   "outputs": [
    {
     "name": "stdout",
     "output_type": "stream",
     "text": [
      "[2, 3, 4, 5, 6, 7, 8, 9, 10, 11, 12]\n"
     ]
    }
   ],
   "source": [
    "#sort mathods list [ ]\n",
    "y =[3,2,5,7,8,4,6,12,11,10,9]\n",
    "y.sort()\n",
    "print(y) #sort mathods just int type data allowed and seen result \n"
   ]
  },
  {
   "cell_type": "code",
   "execution_count": 117,
   "metadata": {},
   "outputs": [
    {
     "name": "stdout",
     "output_type": "stream",
     "text": [
      "[20, 30, 500, 500, 40, {'DU', 'RU', 'JU', 'CU'}, ('nil', 'nilu', 'saha'), {'DU', 'RU', 'JU', 'CU'}, ('nil', 'nilu', 'saha'), 4, 3, 3, 2, 1, 1]\n"
     ]
    }
   ],
   "source": [
    "#reversed mathods list []\n",
    "x.reverse()\n",
    "print (x) #show result "
   ]
  },
  {
   "cell_type": "code",
   "execution_count": 120,
   "metadata": {},
   "outputs": [
    {
     "name": "stdout",
     "output_type": "stream",
     "text": [
      "[20, 30, 40, {'DU', 'RU', 'JU', 'CU'}, ('nil', 'nilu', 'saha'), {'DU', 'RU', 'JU', 'CU'}, ('nil', 'nilu', 'saha'), 4, 3, 3, 2, 1, 1]\n"
     ]
    }
   ],
   "source": [
    "#remove mathods list []\n",
    "#x.remove(500)\n",
    "print(x)"
   ]
  },
  {
   "cell_type": "code",
   "execution_count": 121,
   "metadata": {},
   "outputs": [
    {
     "name": "stdout",
     "output_type": "stream",
     "text": [
      "[20, 30, 40, {'DU', 'RU', 'JU', 'CU'}, {'DU', 'RU', 'JU', 'CU'}, ('nil', 'nilu', 'saha'), 4, 3, 3, 2, 1, 1]\n"
     ]
    }
   ],
   "source": [
    "#pop mathods list [ ]\n",
    "x.pop(4) # pop just index allwed\n",
    "print(x)"
   ]
  },
  {
   "cell_type": "code",
   "execution_count": 123,
   "metadata": {},
   "outputs": [
    {
     "name": "stdout",
     "output_type": "stream",
     "text": [
      "[2, 3, 4, 5, 6, 7, 8, 9, 10, 11, 12]\n"
     ]
    }
   ],
   "source": [
    "\n",
    "print( y)"
   ]
  },
  {
   "cell_type": "code",
   "execution_count": 128,
   "metadata": {},
   "outputs": [],
   "source": [
    "#clear mathods list []\n",
    "y.clear()"
   ]
  },
  {
   "cell_type": "code",
   "execution_count": 129,
   "metadata": {},
   "outputs": [
    {
     "name": "stdout",
     "output_type": "stream",
     "text": [
      "[]\n"
     ]
    }
   ],
   "source": [
    "print(y)"
   ]
  }
 ],
 "metadata": {
  "kernelspec": {
   "display_name": "myenv",
   "language": "python",
   "name": "python3"
  },
  "language_info": {
   "codemirror_mode": {
    "name": "ipython",
    "version": 3
   },
   "file_extension": ".py",
   "mimetype": "text/x-python",
   "name": "python",
   "nbconvert_exporter": "python",
   "pygments_lexer": "ipython3",
   "version": "3.13.1"
  }
 },
 "nbformat": 4,
 "nbformat_minor": 2
}
