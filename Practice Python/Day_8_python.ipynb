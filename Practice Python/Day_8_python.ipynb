{
 "cells": [
  {
   "cell_type": "markdown",
   "metadata": {},
   "source": [
    "Tuple ( ) vs List [ ] tuple type data cannot change elements"
   ]
  },
  {
   "cell_type": "code",
   "execution_count": 4,
   "metadata": {},
   "outputs": [
    {
     "name": "stdout",
     "output_type": "stream",
     "text": [
      "<class 'tuple'>\n"
     ]
    }
   ],
   "source": [
    "t= ( 1, 2.5,True,\"sapnil\",(1,2,\"nil\"),[10,\"saha\",5.5],{\"nil saha\"})\n",
    "print(type(t))"
   ]
  },
  {
   "cell_type": "code",
   "execution_count": 5,
   "metadata": {},
   "outputs": [
    {
     "data": {
      "text/plain": [
       "{'nil saha'}"
      ]
     },
     "execution_count": 5,
     "metadata": {},
     "output_type": "execute_result"
    }
   ],
   "source": [
    "t[-1] #tuple index allow"
   ]
  },
  {
   "cell_type": "code",
   "execution_count": null,
   "metadata": {},
   "outputs": [],
   "source": [
    "#t=t.len() tuple type data not wrok len mathods \n",
    "#print(t)"
   ]
  },
  {
   "cell_type": "code",
   "execution_count": 12,
   "metadata": {},
   "outputs": [
    {
     "data": {
      "text/plain": [
       "(1, 2.5, True, 'sapnil', (1, 2, 'nil'), [10, 'saha', 5.5], {'nil saha'})"
      ]
     },
     "execution_count": 12,
     "metadata": {},
     "output_type": "execute_result"
    }
   ],
   "source": [
    "t[0:8] #all index "
   ]
  },
  {
   "cell_type": "code",
   "execution_count": 13,
   "metadata": {},
   "outputs": [
    {
     "name": "stdout",
     "output_type": "stream",
     "text": [
      "<class 'list'>\n"
     ]
    }
   ],
   "source": [
    "t1=[\"nil saha\"]\n",
    "print(type(t1))"
   ]
  },
  {
   "cell_type": "code",
   "execution_count": 14,
   "metadata": {},
   "outputs": [
    {
     "name": "stdout",
     "output_type": "stream",
     "text": [
      "<class 'str'>\n"
     ]
    }
   ],
   "source": [
    "t2= (\"nil saha\")\n",
    "print(type(t2)) # why str ? bcz this not tuple bcz you value dont use comma ( \"srt\",)"
   ]
  },
  {
   "cell_type": "code",
   "execution_count": 17,
   "metadata": {},
   "outputs": [
    {
     "name": "stdout",
     "output_type": "stream",
     "text": [
      "<class 'tuple'>\n",
      "('nil saha',)\n"
     ]
    },
    {
     "data": {
      "text/plain": [
       "'nil saha'"
      ]
     },
     "execution_count": 17,
     "metadata": {},
     "output_type": "execute_result"
    }
   ],
   "source": [
    "t3=(\"nil saha\",)#look i'm use to comma bcz this data type tuple \n",
    "print(type(t3)) \n",
    "print(t3)\n",
    "t3[0] #index result tuple \"nil saha\""
   ]
  },
  {
   "cell_type": "code",
   "execution_count": 19,
   "metadata": {},
   "outputs": [
    {
     "name": "stdout",
     "output_type": "stream",
     "text": [
      "<class 'list'>\n",
      "[1, 2.5, True, 'sapnil', (1, 2, 'nil'), [10, 'saha', 5.5], {'nil saha'}]\n"
     ]
    }
   ],
   "source": [
    "#tuple to list convert \n",
    "l = list(t)\n",
    "print(type(l))\n",
    "print(l)"
   ]
  },
  {
   "cell_type": "code",
   "execution_count": 21,
   "metadata": {},
   "outputs": [
    {
     "name": "stdout",
     "output_type": "stream",
     "text": [
      "[1, 2.5, True, 'sapnil', (1, 2, 'nil'), [10, 'saha', 5.5], {'nil saha'}, 'ml']\n",
      "<class 'tuple'>\n",
      "(1, 2.5, True, 'sapnil', (1, 2, 'nil'), [10, 'saha', 5.5], {'nil saha'}, 'ml')\n"
     ]
    }
   ],
   "source": [
    "# do you need something value add your tuple data \n",
    "#fast convert your tuple data  list type data \n",
    "#print(l)\n",
    "#l.append(\"ml\")\n",
    "#print(l)\n",
    "t=tuple(l)\n",
    "print(type(t))\n",
    "print(t) # look you tuple data add something \"ml\" "
   ]
  },
  {
   "cell_type": "code",
   "execution_count": 22,
   "metadata": {},
   "outputs": [
    {
     "name": "stdout",
     "output_type": "stream",
     "text": [
      "<class 'tuple'>\n",
      "('nil', 'nil', 1, 1, 2, 2)\n"
     ]
    }
   ],
   "source": [
    "x =(\"nil\",\"nil\",1,1,2,2) #duplicat value allowed tuple data\n",
    "print(type(x))\n",
    "print (x)"
   ]
  },
  {
   "cell_type": "code",
   "execution_count": 23,
   "metadata": {},
   "outputs": [
    {
     "name": "stdout",
     "output_type": "stream",
     "text": [
      "<class 'tuple'>\n",
      "(1, 2, 3, 4, 'nil')\n"
     ]
    }
   ],
   "source": [
    "y=1,2,3,4,\"nil\" #don't use ( ) this but this data type tuple \n",
    "print(type(y))\n",
    "print(y)"
   ]
  },
  {
   "cell_type": "code",
   "execution_count": 28,
   "metadata": {},
   "outputs": [
    {
     "name": "stdout",
     "output_type": "stream",
     "text": [
      "<class 'str'>\n",
      "nil\n",
      "<class 'tuple'>\n",
      "('nil',)\n"
     ]
    },
    {
     "data": {
      "text/plain": [
       "'nil'"
      ]
     },
     "execution_count": 28,
     "metadata": {},
     "output_type": "execute_result"
    }
   ],
   "source": [
    "y1 = \"nil\"\n",
    "print(type(y1)) #why this type str bcz you don't use comma (\"str\",)\n",
    "print(y1)\n",
    "\n",
    "y3 = \"nil\", # use \"str\", \n",
    "print(type(y3)) # show result tuple\n",
    "print(y3)\n",
    "y3[0] #index\n",
    "      "
   ]
  },
  {
   "cell_type": "code",
   "execution_count": 30,
   "metadata": {},
   "outputs": [
    {
     "name": "stdout",
     "output_type": "stream",
     "text": [
      "<class 'tuple'>\n",
      "(1, 2, 3, 4, 'nil', 'sapnil')\n"
     ]
    }
   ],
   "source": [
    "a = (1,2,3,4)\n",
    "b = (\"nil\",\"sapnil\")\n",
    "c = a + b # tuple addition \n",
    "print (type(c))\n",
    "print(c) #tow type tuple data vale adding "
   ]
  },
  {
   "cell_type": "code",
   "execution_count": 31,
   "metadata": {},
   "outputs": [
    {
     "name": "stdout",
     "output_type": "stream",
     "text": [
      "<class 'tuple'>\n",
      "(1, 2, 3, 4, 1, 2, 3, 4, 1, 2, 3, 4, 1, 2, 3, 4)\n"
     ]
    }
   ],
   "source": [
    "multipication_tuple = a*4 #tuple data multipication \n",
    "print(type(multipication_tuple))\n",
    "print(multipication_tuple) # 4 value multipication "
   ]
  },
  {
   "cell_type": "code",
   "execution_count": 32,
   "metadata": {},
   "outputs": [
    {
     "data": {
      "text/plain": [
       "4"
      ]
     },
     "execution_count": 32,
     "metadata": {},
     "output_type": "execute_result"
    }
   ],
   "source": [
    "multipication_tuple.count(3) # count mathods tuple data result "
   ]
  },
  {
   "cell_type": "code",
   "execution_count": 36,
   "metadata": {},
   "outputs": [
    {
     "data": {
      "text/plain": [
       "3"
      ]
     },
     "execution_count": 36,
     "metadata": {},
     "output_type": "execute_result"
    }
   ],
   "source": [
    "multipication_tuple.index(4)"
   ]
  },
  {
   "cell_type": "code",
   "execution_count": 42,
   "metadata": {},
   "outputs": [
    {
     "name": "stdout",
     "output_type": "stream",
     "text": [
      "(1, 2, 3, 4, 1, 2, 3, 4, 1, 2, 3, 4, 1, 2, 3, 4)\n"
     ]
    },
    {
     "data": {
      "text/plain": [
       "False"
      ]
     },
     "execution_count": 42,
     "metadata": {},
     "output_type": "execute_result"
    }
   ],
   "source": [
    "#membership \n",
    "print(multipication_tuple)\n",
    "5 in multipication_tuple"
   ]
  },
  {
   "cell_type": "code",
   "execution_count": 43,
   "metadata": {},
   "outputs": [
    {
     "name": "stdout",
     "output_type": "stream",
     "text": [
      "(1, 2, 3, 4)\n"
     ]
    },
    {
     "data": {
      "text/plain": [
       "True"
      ]
     },
     "execution_count": 43,
     "metadata": {},
     "output_type": "execute_result"
    }
   ],
   "source": [
    "print(a)\n",
    "4 in a "
   ]
  },
  {
   "cell_type": "code",
   "execution_count": 46,
   "metadata": {},
   "outputs": [
    {
     "name": "stdout",
     "output_type": "stream",
     "text": [
      "sapnil \n",
      "saha\n",
      "niloy\n",
      "1\n",
      "2\n",
      "3\n",
      "4\n",
      "True\n",
      "2.5\n",
      "{'niloy saha'}\n",
      "['DU', 1, 2.5, True]\n"
     ]
    }
   ],
   "source": [
    "# for loop useing tuple data \n",
    "name =(\"sapnil \",\"saha\",\"niloy\",1,2,3,4,True,2.5,{\"niloy saha\"},[ \"DU\",1,2.5,True])\n",
    "for i in name :\n",
    "    print(i) "
   ]
  },
  {
   "cell_type": "code",
   "execution_count": 50,
   "metadata": {},
   "outputs": [
    {
     "data": {
      "text/plain": [
       "'DU'"
      ]
     },
     "execution_count": 50,
     "metadata": {},
     "output_type": "execute_result"
    }
   ],
   "source": [
    "name[-1][0] #index tuuple data last index in 0 index result DU "
   ]
  },
  {
   "cell_type": "code",
   "execution_count": 51,
   "metadata": {},
   "outputs": [
    {
     "name": "stdout",
     "output_type": "stream",
     "text": [
      "<class 'tuple'>\n"
     ]
    }
   ],
   "source": [
    "print (type (name))"
   ]
  }
 ],
 "metadata": {
  "kernelspec": {
   "display_name": "myenv",
   "language": "python",
   "name": "python3"
  },
  "language_info": {
   "codemirror_mode": {
    "name": "ipython",
    "version": 3
   },
   "file_extension": ".py",
   "mimetype": "text/x-python",
   "name": "python",
   "nbconvert_exporter": "python",
   "pygments_lexer": "ipython3",
   "version": "3.13.1"
  }
 },
 "nbformat": 4,
 "nbformat_minor": 2
}
