{
 "cells": [
  {
   "cell_type": "markdown",
   "metadata": {},
   "source": [
    "# commonly used built-in function in python "
   ]
  },
  {
   "cell_type": "code",
   "execution_count": 1,
   "metadata": {},
   "outputs": [
    {
     "name": "stdout",
     "output_type": "stream",
     "text": [
      "my name is sapnil saha niloy\n"
     ]
    }
   ],
   "source": [
    "# 1. print( ) outputs text or variables to the console \n",
    "print(\"my name is sapnil saha niloy\")"
   ]
  },
  {
   "cell_type": "code",
   "execution_count": 2,
   "metadata": {},
   "outputs": [
    {
     "name": "stdout",
     "output_type": "stream",
     "text": [
      "5\n"
     ]
    }
   ],
   "source": [
    "# 2. len() Returns the length of an oblect \n",
    "my_list = [ 1,2,3,4,5]\n",
    "print(len(my_list))"
   ]
  },
  {
   "cell_type": "code",
   "execution_count": 4,
   "metadata": {},
   "outputs": [
    {
     "name": "stdout",
     "output_type": "stream",
     "text": [
      "100\n"
     ]
    }
   ],
   "source": [
    "# 3. input ( ) reads input frome the user \n",
    "user_input= input(\"enter something\")\n",
    "print(user_input)\n"
   ]
  },
  {
   "cell_type": "code",
   "execution_count": 5,
   "metadata": {},
   "outputs": [
    {
     "name": "stdout",
     "output_type": "stream",
     "text": [
      "<class 'int'>\n"
     ]
    }
   ],
   "source": [
    "# 4. type ( ) returns the type of an object\n",
    "x = 5 \n",
    "type_of_x = type(x)\n",
    "print(type_of_x )\n",
    " \n",
    "\n"
   ]
  },
  {
   "cell_type": "code",
   "execution_count": 7,
   "metadata": {},
   "outputs": [
    {
     "name": "stdout",
     "output_type": "stream",
     "text": [
      "42\n"
     ]
    }
   ],
   "source": [
    "# 5. int(),float(),str(), convert values to integer ,floats,or string \n",
    "num_str = \"42\"\n",
    "num_int =int(num_str )#int,str,float\n",
    "print(num_int)"
   ]
  },
  {
   "cell_type": "code",
   "execution_count": 8,
   "metadata": {},
   "outputs": [
    {
     "name": "stdout",
     "output_type": "stream",
     "text": [
      "[1, 2, 3, 4, 5, 6, 7, 8, 9]\n"
     ]
    }
   ],
   "source": [
    "# 6 range ( ) Generates a sequence of numbers \n",
    "number=list(range(1,10)) #range n -1 \n",
    "print(number)"
   ]
  },
  {
   "cell_type": "code",
   "execution_count": 11,
   "metadata": {},
   "outputs": [
    {
     "name": "stdout",
     "output_type": "stream",
     "text": [
      "15\n"
     ]
    }
   ],
   "source": [
    "# 7 sum ( ) returns the sum of all element in an iterable \n",
    "my_list_1 = [1,2,3,4,5]\n",
    "total = sum(my_list_1)\n",
    "print(total)"
   ]
  },
  {
   "cell_type": "code",
   "execution_count": 15,
   "metadata": {},
   "outputs": [
    {
     "name": "stdout",
     "output_type": "stream",
     "text": [
      "4  result 1\n"
     ]
    }
   ],
   "source": [
    "# 8. max (),min(), returns the maximun or minimum value from an iterable \n",
    "number = [1,2,2,2,3,4,4]\n",
    "max_var=max(number)\n",
    "min_var=min(number)\n",
    "print(max_var, \" result\" ,min_var)"
   ]
  },
  {
   "cell_type": "code",
   "execution_count": 16,
   "metadata": {},
   "outputs": [
    {
     "name": "stdout",
     "output_type": "stream",
     "text": [
      "10\n"
     ]
    }
   ],
   "source": [
    "# 9 abs() returns the absolute value of a number \n",
    "absolute_value = abs(-10) # - neg to + posetive convert  \n",
    "print(absolute_value)"
   ]
  },
  {
   "cell_type": "code",
   "execution_count": 4,
   "metadata": {},
   "outputs": [
    {
     "name": "stdout",
     "output_type": "stream",
     "text": [
      "3.14\n"
     ]
    }
   ],
   "source": [
    "# 10. round ( ) Rounds a floating-point number to a specified number of decomals\n",
    "round_num =round(3.14159,2) # round to decimal places \n",
    "print( round_num)"
   ]
  },
  {
   "cell_type": "code",
   "execution_count": 5,
   "metadata": {},
   "outputs": [
    {
     "name": "stdout",
     "output_type": "stream",
     "text": [
      "[1, 2, 3, 4, 5, 9]\n"
     ]
    }
   ],
   "source": [
    "# 11. sorted  () returnts a new sorted list from the elements of an iterable\n",
    "num =[3,2,4,1,5,9]\n",
    "sorted_num = sorted(num)\n",
    "print(sorted_num)"
   ]
  },
  {
   "cell_type": "code",
   "execution_count": 3,
   "metadata": {},
   "outputs": [
    {
     "name": "stdout",
     "output_type": "stream",
     "text": [
      "True\n",
      "False\n"
     ]
    }
   ],
   "source": [
    "# 12. any() all () retunts true if any or all element in an iterable are true\n",
    "bool_list =[True,False,True,False,True]\n",
    "any_true= any(bool_list)\n",
    "all_true= all(bool_list)\n",
    "print(any_true)\n",
    "print(all_true)"
   ]
  },
  {
   "cell_type": "code",
   "execution_count": 8,
   "metadata": {},
   "outputs": [
    {
     "name": "stdout",
     "output_type": "stream",
     "text": [
      "apple + = banna + = orange\n"
     ]
    }
   ],
   "source": [
    "# 13. str.join ( ) joins element of an iterable with a string as a separator \n",
    "my_list = [ \"apple\",\"banna\",\"orange\"]\n",
    "joined_str = \" + = \". join(my_list)\n",
    "print(joined_str)"
   ]
  },
  {
   "cell_type": "code",
   "execution_count": 11,
   "metadata": {},
   "outputs": [
    {
     "name": "stdout",
     "output_type": "stream",
     "text": [
      "hello world\n",
      "HELLO WORLD\n"
     ]
    }
   ],
   "source": [
    "#14. str.lower ( ),str.upper( ) converts a string to lowercase or uppercase \n",
    "my_str = \"hello world\"\n",
    "lower_case = my_str.lower()\n",
    "upper_case = my_str.upper()\n",
    "print(lower_case)\n",
    "print(upper_case)"
   ]
  },
  {
   "cell_type": "code",
   "execution_count": 14,
   "metadata": {},
   "outputs": [
    {
     "name": "stdout",
     "output_type": "stream",
     "text": [
      "[1, 2, 3]\n"
     ]
    }
   ],
   "source": [
    "# 15. list(), tuple(): Converts an iterable to a list or tuple.\n",
    "my_tuple = (1, 2, 3)\n",
    "tuple_to_list = list(my_tuple)\n",
    "print(tuple_to_list)"
   ]
  },
  {
   "cell_type": "code",
   "execution_count": 16,
   "metadata": {},
   "outputs": [
    {
     "name": "stdout",
     "output_type": "stream",
     "text": [
      "{'name': 'John', 'age': 25}\n"
     ]
    }
   ],
   "source": [
    "# 16. dict(): Creates a dictionary.\n",
    "my_dict = dict(name=\"John\", age=25)\n",
    "print(my_dict)"
   ]
  },
  {
   "cell_type": "code",
   "execution_count": 17,
   "metadata": {},
   "outputs": [
    {
     "data": {
      "text/plain": [
       "dict_keys(['name', 'age'])"
      ]
     },
     "execution_count": 17,
     "metadata": {},
     "output_type": "execute_result"
    }
   ],
   "source": [
    "my_dict.keys()"
   ]
  },
  {
   "cell_type": "code",
   "execution_count": 18,
   "metadata": {},
   "outputs": [
    {
     "data": {
      "text/plain": [
       "dict_values(['John', 25])"
      ]
     },
     "execution_count": 18,
     "metadata": {},
     "output_type": "execute_result"
    }
   ],
   "source": [
    "my_dict.values()"
   ]
  },
  {
   "cell_type": "code",
   "execution_count": 19,
   "metadata": {},
   "outputs": [
    {
     "name": "stdout",
     "output_type": "stream",
     "text": [
      "{1, 2, 3, 4}\n"
     ]
    }
   ],
   "source": [
    "# 17. set(): Creates a set.\n",
    "my_set = set([1, 2, 3, 3, 4])\n",
    "print(my_set)"
   ]
  },
  {
   "cell_type": "code",
   "execution_count": 20,
   "metadata": {},
   "outputs": [
    {
     "name": "stdout",
     "output_type": "stream",
     "text": [
      "0 a\n",
      "1 b\n",
      "2 c\n"
     ]
    }
   ],
   "source": [
    "# 18. enumerate(): Returns tuples with the index and corresponding element.\n",
    "my_list = [\"a\", \"b\", \"c\"]\n",
    "for index, value in enumerate(my_list):\n",
    "    print(index, value)"
   ]
  },
  {
   "cell_type": "code",
   "execution_count": 28,
   "metadata": {},
   "outputs": [],
   "source": [
    "# 19. zip(): Combines two or more iterables element-wise\n",
    "names = [\"Alice\", \"Bob\", \"Charlie\"]\n",
    "ages = [25, 30, 22]\n",
    "zipped_data = zip(names, ages)"
   ]
  },
  {
   "cell_type": "code",
   "execution_count": 22,
   "metadata": {},
   "outputs": [
    {
     "name": "stdout",
     "output_type": "stream",
     "text": [
      "<zip object at 0x0000029E9406A840>\n"
     ]
    }
   ],
   "source": [
    "print(zipped_data)"
   ]
  },
  {
   "cell_type": "code",
   "execution_count": 24,
   "metadata": {},
   "outputs": [
    {
     "name": "stdout",
     "output_type": "stream",
     "text": [
      "[3, 2, 1]\n"
     ]
    }
   ],
   "source": [
    "# 20. reversed(): Returns a reverse iterator of a sequence\n",
    "my_list = [1, 2, 3]\n",
    "reversed_list = list(reversed(my_list))\n",
    "print(reversed_list)"
   ]
  },
  {
   "cell_type": "code",
   "execution_count": 25,
   "metadata": {},
   "outputs": [
    {
     "name": "stdout",
     "output_type": "stream",
     "text": [
      "106\n"
     ]
    }
   ],
   "source": [
    "# 21. sum() (with start argument): Returns the sum of an iterable with an optional starting value\n",
    "numbers = [1, 2, 3]\n",
    "total = sum(numbers, 100)  # sum starting from 100\n",
    "print(total)"
   ]
  },
  {
   "cell_type": "code",
   "execution_count": null,
   "metadata": {},
   "outputs": [],
   "source": [
    "# 23. abs() (for complex numbers): Returns the magnitude of a complex number.\n",
    "#The magnitude of a complex number is the distance from the origin (0,0) to the point representing the complex number in the complex plane.\n",
    "#  For a complex number \\(a + bi\\), where \\(a\\) is the real part and \\(b\\) is the imaginary part, the magnitude (or modulus) is given by the formula:\n",
    "#\\[ |a + bi| = \\sqrt{a^2 + b^2} \\]\n",
    "#In other words, it's the square root of the sum of the squares of the real and imaginary parts. \n",
    "# This magnitude represents the length of the vector in the complex plane."
   ]
  },
  {
   "cell_type": "code",
   "execution_count": 26,
   "metadata": {},
   "outputs": [
    {
     "name": "stdout",
     "output_type": "stream",
     "text": [
      "5.0\n"
     ]
    }
   ],
   "source": [
    "complex_num = 3 + 4j\n",
    "magnitude = abs(complex_num)\n",
    "print(magnitude)"
   ]
  },
  {
   "cell_type": "code",
   "execution_count": 27,
   "metadata": {},
   "outputs": [
    {
     "name": "stdout",
     "output_type": "stream",
     "text": [
      "[2, 3, 4]\n"
     ]
    }
   ],
   "source": [
    "# 24. slice(): Creates a slice object that can be used to slice sequences like lists and strings\n",
    "my_list = [1, 2, 3, 4, 5]\n",
    "my_slice = slice(1, 4)\n",
    "sliced_list = my_list[my_slice]\n",
    "print(sliced_list)"
   ]
  },
  {
   "cell_type": "code",
   "execution_count": 29,
   "metadata": {},
   "outputs": [
    {
     "name": "stdout",
     "output_type": "stream",
     "text": [
      "€\n"
     ]
    }
   ],
   "source": [
    "# 25. chr(), ord() (extended usage): Handling Unicode characters and code points.\n",
    "euro_symbol = chr(8364) #returns €\n",
    "print(euro_symbol)"
   ]
  },
  {
   "cell_type": "code",
   "execution_count": 30,
   "metadata": {},
   "outputs": [
    {
     "name": "stdout",
     "output_type": "stream",
     "text": [
      "8364\n"
     ]
    }
   ],
   "source": [
    "code_poin=ord(\"€\")# retunts 8364\n",
    "print(code_poin)"
   ]
  },
  {
   "cell_type": "code",
   "execution_count": 31,
   "metadata": {},
   "outputs": [
    {
     "name": "stdout",
     "output_type": "stream",
     "text": [
      "A\n"
     ]
    }
   ],
   "source": [
    "char =chr(65)\n",
    "print(char)"
   ]
  },
  {
   "cell_type": "code",
   "execution_count": 32,
   "metadata": {},
   "outputs": [
    {
     "name": "stdout",
     "output_type": "stream",
     "text": [
      "65\n"
     ]
    }
   ],
   "source": [
    "char1= ord(\"A\")\n",
    "print(char1)"
   ]
  }
 ],
 "metadata": {
  "kernelspec": {
   "display_name": "myenv",
   "language": "python",
   "name": "python3"
  },
  "language_info": {
   "codemirror_mode": {
    "name": "ipython",
    "version": 3
   },
   "file_extension": ".py",
   "mimetype": "text/x-python",
   "name": "python",
   "nbconvert_exporter": "python",
   "pygments_lexer": "ipython3",
   "version": "3.13.1"
  }
 },
 "nbformat": 4,
 "nbformat_minor": 2
}
