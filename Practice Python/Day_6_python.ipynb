{
 "cells": [
  {
   "cell_type": "markdown",
   "metadata": {},
   "source": [
    "While Loop Python "
   ]
  },
  {
   "cell_type": "code",
   "execution_count": 24,
   "metadata": {},
   "outputs": [
    {
     "name": "stdout",
     "output_type": "stream",
     "text": [
      "YES , this is while loop 0\n",
      "YES , this is while loop 1\n",
      "YES , this is while loop 2\n",
      "YES , this is while loop 3\n",
      "YES , this is while loop 4\n",
      "YES , this is while loop 5\n",
      "YES , this is while loop 6\n",
      "YES , this is while loop 7\n",
      "YES , this is while loop 8\n",
      "YES , this is while loop 9\n"
     ]
    }
   ],
   "source": [
    "#example \n",
    "num1 = 0 #condition count var while \\global var\n",
    "while (num1 <= 9 ):#condition mathods \n",
    "    print (\"YES , this is while loop\", (num1)) #print var and condition mathods result\n",
    "    num1 = num1 + 1 #condition statement "
   ]
  },
  {
   "cell_type": "code",
   "execution_count": 36,
   "metadata": {},
   "outputs": [
    {
     "name": "stdout",
     "output_type": "stream",
     "text": [
      "yes this different condition while loop 0\n",
      "yes this different condition while loop 2\n",
      "yes this different condition while loop 4\n",
      "yes this different condition while loop 6\n",
      "yes this different condition while loop 8\n",
      "yes this different condition while loop 10\n",
      "yes this different condition while loop 12\n",
      "yes this different condition while loop 14\n",
      "yes this different condition while loop 16\n",
      "yes this different condition while loop 18\n"
     ]
    }
   ],
   "source": [
    "num2 = 0 #condition count var while loop \\global var\n",
    "while ( num2 <=19):#condition mathods \n",
    "    print (\"yes this different condition while loop\" ,(num2))#print var condition mathods result \n",
    "    num2 += 2 #condition statement what differnt while loop"
   ]
  },
  {
   "cell_type": "code",
   "execution_count": 43,
   "metadata": {},
   "outputs": [
    {
     "name": "stdout",
     "output_type": "stream",
     "text": [
      "m\n",
      "y\n",
      " \n",
      "n\n",
      "a\n",
      "m\n",
      "e\n",
      " \n",
      "i\n",
      "s\n",
      " \n",
      "A\n",
      "I\n",
      " \n"
     ]
    }
   ],
   "source": [
    "name = \"my name is AI \" #str type var\n",
    "name1 = 0 #index var main name value \n",
    "while name1 < len(name):  #condition mathods and len of srt var\n",
    "    print(name[name1])#print name var of index var counting \n",
    "    name1 = name1 +1 #condition statement "
   ]
  },
  {
   "cell_type": "code",
   "execution_count": 54,
   "metadata": {},
   "outputs": [
    {
     "name": "stdout",
     "output_type": "stream",
     "text": [
      "i\n",
      "love\n",
      "data\n",
      "science\n"
     ]
    }
   ],
   "source": [
    "data = \" i love data science \" #str type data var \n",
    "data =data.split() #str type data split() mathods\n",
    "index = 0 # var index main var value\n",
    "while index < len (data): # loop condition \n",
    "    print (data[index]) #pint main var and [ ] index var \n",
    "    index = index +1 #condition statement loop "
   ]
  },
  {
   "cell_type": "code",
   "execution_count": 58,
   "metadata": {},
   "outputs": [
    {
     "name": "stdout",
     "output_type": "stream",
     "text": [
      "1 0\n",
      "3 1\n",
      "6 2\n",
      "10 3\n",
      "15 4\n",
      "21 5\n",
      "28 6\n",
      "36 7\n",
      "45 8\n"
     ]
    }
   ],
   "source": [
    "n = [1,2,3,4,5,6,7,8,9] # list type main var \n",
    "index = 0 #main var index 0 \n",
    "total = 0 # total 0 mean total + n  0+1= 1 , 1+ 2= 3 , 2 +3 = 5, ......    \n",
    "while (index < len (n)):# condition \n",
    "    total = total + n [index]\n",
    "    print (total,index)\n",
    "    index = index + 1"
   ]
  },
  {
   "cell_type": "code",
   "execution_count": 70,
   "metadata": {},
   "outputs": [
    {
     "name": "stdout",
     "output_type": "stream",
     "text": [
      "8\n"
     ]
    }
   ],
   "source": [
    "n1= [1,2,3,4,56,7,8,9,]\n",
    "l = len(n1)\n",
    "print (l)"
   ]
  },
  {
   "cell_type": "code",
   "execution_count": null,
   "metadata": {},
   "outputs": [],
   "source": []
  },
  {
   "cell_type": "code",
   "execution_count": null,
   "metadata": {},
   "outputs": [],
   "source": []
  },
  {
   "cell_type": "code",
   "execution_count": null,
   "metadata": {},
   "outputs": [],
   "source": []
  },
  {
   "cell_type": "code",
   "execution_count": null,
   "metadata": {},
   "outputs": [],
   "source": []
  },
  {
   "cell_type": "code",
   "execution_count": null,
   "metadata": {},
   "outputs": [],
   "source": []
  },
  {
   "cell_type": "code",
   "execution_count": null,
   "metadata": {},
   "outputs": [],
   "source": []
  }
 ],
 "metadata": {
  "kernelspec": {
   "display_name": "myenv1",
   "language": "python",
   "name": "python3"
  },
  "language_info": {
   "codemirror_mode": {
    "name": "ipython",
    "version": 3
   },
   "file_extension": ".py",
   "mimetype": "text/x-python",
   "name": "python",
   "nbconvert_exporter": "python",
   "pygments_lexer": "ipython3",
   "version": "3.13.1"
  }
 },
 "nbformat": 4,
 "nbformat_minor": 2
}
