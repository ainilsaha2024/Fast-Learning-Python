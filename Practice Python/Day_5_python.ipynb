{
 "cells": [
  {
   "cell_type": "markdown",
   "metadata": {},
   "source": [
    "python For loop  "
   ]
  },
  {
   "cell_type": "code",
   "execution_count": 1,
   "metadata": {},
   "outputs": [
    {
     "data": {
      "image/png": "[encoded data removed]",
      "text/plain": [
       "<IPython.core.display.Image object>"
      ]
     },
     "execution_count": 1,
     "metadata": {},
     "output_type": "execute_result"
    }
   ],
   "source": [
    "from IPython.display import Image\n",
    "Image (\"use-5-loop.PNG\")"
   ]
  },
  {
   "cell_type": "code",
   "execution_count": 63,
   "metadata": {},
   "outputs": [
    {
     "name": "stdout",
     "output_type": "stream",
     "text": [
      "nil\n",
      "niloy\n",
      "saha\n",
      "sapnil\n"
     ]
    }
   ],
   "source": [
    "AA = [\"nil\",\"niloy\",\"saha\",\"sapnil\"] #fasr your for loop main var =[ ] list \n",
    "for BB in AA : #for loop var in main var : condition main var loop var er vitor\n",
    "    print(BB)"
   ]
  },
  {
   "cell_type": "code",
   "execution_count": 64,
   "metadata": {},
   "outputs": [
    {
     "name": "stdout",
     "output_type": "stream",
     "text": [
      "S\n",
      "a\n",
      "p\n",
      "n\n",
      "i\n",
      "l\n",
      " \n",
      "S\n",
      "a\n",
      "h\n",
      "a\n",
      " \n",
      "N\n",
      "i\n",
      "l\n",
      "o\n",
      "y\n"
     ]
    }
   ],
   "source": [
    "name = \"Sapnil Saha Niloy\" # str type data for loop\n",
    "for x in name :\n",
    "    print(x) #x mean loop var "
   ]
  },
  {
   "cell_type": "code",
   "execution_count": 65,
   "metadata": {},
   "outputs": [
    {
     "name": "stdout",
     "output_type": "stream",
     "text": [
      "1\n",
      "2\n",
      "3\n",
      "4\n",
      "5\n",
      "6\n",
      "7\n",
      "8\n",
      "9\n"
     ]
    }
   ],
   "source": [
    "num1 = (1,2,3,4,5,6,7,8,9)\n",
    "for x in range(len(num1)):#range 0 - 8 ,len 1 -9  \n",
    "    print (num1[x]) #num1 var , loop var x "
   ]
  },
  {
   "cell_type": "code",
   "execution_count": 66,
   "metadata": {},
   "outputs": [
    {
     "name": "stdout",
     "output_type": "stream",
     "text": [
      "10\n",
      "1\n",
      "2\n",
      "3\n",
      "4\n",
      "5\n",
      "6\n",
      "7\n",
      "8\n",
      "9\n",
      "10\n"
     ]
    }
   ],
   "source": [
    "num2 = (1,2,3,4,5,6,7,8,9,10)\n",
    "print(len(num2)) #num2 len result 10\n",
    "for i in range(10): # loop var i , range 10 mean num2 len 10 \n",
    "    print(num2[i]) #main var num2 [ ] i loop var"
   ]
  },
  {
   "cell_type": "code",
   "execution_count": 67,
   "metadata": {},
   "outputs": [
    {
     "name": "stdout",
     "output_type": "stream",
     "text": [
      "i\n",
      "love\n",
      "data\n",
      "science\n"
     ]
    }
   ],
   "source": [
    "y = \" i love data science \"\n",
    "y=y.split() #main var split mathods \n",
    "for x in y: #loop \n",
    "    print(x)"
   ]
  },
  {
   "cell_type": "code",
   "execution_count": 68,
   "metadata": {},
   "outputs": [
    {
     "name": "stdout",
     "output_type": "stream",
     "text": [
      "i 0\n",
      "love 1\n",
      "ai 2\n",
      "and 3\n",
      "ml 4\n"
     ]
    }
   ],
   "source": [
    "z = \"i love ai and ml\" #main var\n",
    "z=z.split() #z split mathods \n",
    "for i in range(len(z)): #loop var i range (len(main var)) \n",
    "    print(z[i],i)#y [i] index , i main var bcz you use range and len mathods loop "
   ]
  },
  {
   "cell_type": "code",
   "execution_count": 69,
   "metadata": {},
   "outputs": [
    {
     "name": "stdout",
     "output_type": "stream",
     "text": [
      "love\n"
     ]
    }
   ],
   "source": [
    "print(z[1]) # main var index"
   ]
  },
  {
   "cell_type": "code",
   "execution_count": 70,
   "metadata": {},
   "outputs": [
    {
     "name": "stdout",
     "output_type": "stream",
     "text": [
      "55\n"
     ]
    }
   ],
   "source": [
    "add= [ 1,2,3,4,5,6,7,8,9,10] #globar var \n",
    "total = 0\n",
    "for x in add : # x = add \n",
    "    total= total + x # total local var #addtion looping total var = total + x total=0+1=2 + total=2+2=4 + total=4+3=7 ...... total= 55 \n",
    "\n",
    "\n",
    "print(total) #over all result 55 "
   ]
  },
  {
   "cell_type": "code",
   "execution_count": 71,
   "metadata": {},
   "outputs": [
    {
     "name": "stdout",
     "output_type": "stream",
     "text": [
      "1\n",
      "3\n",
      "6\n",
      "10\n",
      "15\n",
      "21\n",
      "28\n",
      "36\n",
      "45\n"
     ]
    }
   ],
   "source": [
    "sum1 = [1,2,3,4,5,6,7,8,9] #global var \n",
    "sum2 = 0\n",
    "for i in sum1: # sum1 = i \n",
    "    sum2=sum2+i#sum2 local var  #fast sum2 = sum2 + i    0+1=1 ,1+2=2,2+3=6, 6+4=10....... looping addtion   \n",
    "    print(sum2) #deep thiking finaliy sum2 result loop "
   ]
  },
  {
   "cell_type": "code",
   "execution_count": 72,
   "metadata": {},
   "outputs": [
    {
     "name": "stdout",
     "output_type": "stream",
     "text": [
      " My name is sapnil saha niloy 0\n",
      " My name is sapnil saha niloy 1\n",
      " My name is sapnil saha niloy 2\n",
      " My name is sapnil saha niloy 3\n",
      " My name is sapnil saha niloy 4\n",
      " My name is sapnil saha niloy 5\n",
      " My name is sapnil saha niloy 6\n",
      " My name is sapnil saha niloy 7\n",
      " My name is sapnil saha niloy 8\n",
      " My name is sapnil saha niloy 9\n"
     ]
    }
   ],
   "source": [
    "my_name = \" sapnil saha niloy\"\n",
    "for x in range(10):\n",
    "    my_name = \" My name is sapnil saha niloy\" #local var my_name looping range (10 )\n",
    "    print(my_name,x) #local var range 10 result my_name , x mean x var loop reslut 0-9 index looping "
   ]
  },
  {
   "cell_type": "code",
   "execution_count": 73,
   "metadata": {},
   "outputs": [
    {
     "name": "stdout",
     "output_type": "stream",
     "text": [
      "YES , I'm Sapnil 0\n",
      "YES , I'm Sapnil 1\n",
      "YES , I'm Sapnil 2\n",
      "YES , I'm Sapnil 3\n",
      "YES , I'm Sapnil 4\n",
      "YES , I'm Sapnil 5\n",
      "YES , I'm Sapnil 6\n",
      "YES , I'm Sapnil 7\n",
      "YES , I'm Sapnil 8\n",
      "YES , I'm Sapnil 9\n"
     ]
    }
   ],
   "source": [
    "my_name = \"YES , I'm Sapnil\" #global  var \n",
    "for x in range(10):\n",
    "    print(my_name,x) #global var range 10 result my_name ,x mean x var loop result 0 -9 index looping "
   ]
  },
  {
   "cell_type": "code",
   "execution_count": 74,
   "metadata": {},
   "outputs": [
    {
     "name": "stdout",
     "output_type": "stream",
     "text": [
      " YES I'm AI You Know  5\n",
      " YES I'm AI You Know  6\n",
      " YES I'm AI You Know  7\n",
      " YES I'm AI You Know  8\n",
      " YES I'm AI You Know  9\n"
     ]
    }
   ],
   "source": [
    "nam = \" YES I'm AI You Know \"\n",
    "for  a in range (5,10):#loop start 5-9 index \n",
    "    print (nam,a) #global var nam loop range 5-9 index and a mean loop var a looping 5-9 index show"
   ]
  },
  {
   "cell_type": "code",
   "execution_count": 75,
   "metadata": {},
   "outputs": [
    {
     "name": "stdout",
     "output_type": "stream",
     "text": [
      "['sapnil saha ', 'niloy saha ', 'nil saha ', 'nilu saha', 'nirob saha', 'diya'] 1\n",
      "['sapnil saha ', 'niloy saha ', 'nil saha ', 'nilu saha', 'nirob saha', 'diya'] 3\n",
      "['sapnil saha ', 'niloy saha ', 'nil saha ', 'nilu saha', 'nirob saha', 'diya'] 5\n"
     ]
    }
   ],
   "source": [
    "nam = [\"sapnil saha \",\"niloy saha \",\"nil saha \",\"nilu saha\",\"nirob saha\",\"diya\"] #global var list data \n",
    "for x in range (1,6,2): # looping range 1 start ,6 last , gap 2  \n",
    "    print (nam ,x) # global var looping , loop var x range gap 2 result "
   ]
  },
  {
   "cell_type": "code",
   "execution_count": 76,
   "metadata": {},
   "outputs": [
    {
     "name": "stdout",
     "output_type": "stream",
     "text": [
      "sapnil saha1 ,niloy saha2 ,nil saha3 ,nilu saha4,nirob saha5,diya 5\n",
      "sapnil saha1 ,niloy saha2 ,nil saha3 ,nilu saha4,nirob saha5,diya 7\n",
      "sapnil saha1 ,niloy saha2 ,nil saha3 ,nilu saha4,nirob saha5,diya 9\n"
     ]
    }
   ],
   "source": [
    "nam1 = \"sapnil saha1 ,niloy saha2 ,nil saha3 ,nilu saha4,nirob saha5,diya\" #str type data global var \n",
    "len(nam1)\n",
    "\n",
    "for i in range (5 ,10,2): #this loop str data start 5,stop 10 range , gap 2\n",
    "    print(nam1,i) "
   ]
  },
  {
   "cell_type": "code",
   "execution_count": 77,
   "metadata": {},
   "outputs": [
    {
     "name": "stdout",
     "output_type": "stream",
     "text": [
      "sapnil saha1 ,niloy saha2 ,nil saha3 ,nilu saha4,nirob saha5,diya 100\n",
      "sapnil saha1 ,niloy saha2 ,nil saha3 ,nilu saha4,nirob saha5,diya 90\n",
      "sapnil saha1 ,niloy saha2 ,nil saha3 ,nilu saha4,nirob saha5,diya 80\n",
      "sapnil saha1 ,niloy saha2 ,nil saha3 ,nilu saha4,nirob saha5,diya 70\n",
      "sapnil saha1 ,niloy saha2 ,nil saha3 ,nilu saha4,nirob saha5,diya 60\n"
     ]
    }
   ],
   "source": [
    "nam2 = \"sapnil saha1 ,niloy saha2 ,nil saha3 ,nilu saha4,nirob saha5,diya\" #str data loop global var \n",
    "for i in range (100,50,-10): #this loop start 100 , stop 50 , gap negative -10 \n",
    "    print(nam2,i)"
   ]
  },
  {
   "cell_type": "code",
   "execution_count": null,
   "metadata": {},
   "outputs": [],
   "source": []
  }
 ],
 "metadata": {
  "kernelspec": {
   "display_name": "myenv",
   "language": "python",
   "name": "python3"
  },
  "language_info": {
   "codemirror_mode": {
    "name": "ipython",
    "version": 3
   },
   "file_extension": ".py",
   "mimetype": "text/x-python",
   "name": "python",
   "nbconvert_exporter": "python",
   "pygments_lexer": "ipython3",
   "version": "3.13.1"
  }
 },
 "nbformat": 4,
 "nbformat_minor": 2
}
