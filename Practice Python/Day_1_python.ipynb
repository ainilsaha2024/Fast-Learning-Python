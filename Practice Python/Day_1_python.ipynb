{
 "cells": [
  {
   "cell_type": "code",
   "execution_count": 1,
   "metadata": {},
   "outputs": [
    {
     "name": "stdout",
     "output_type": "stream",
     "text": [
      "Hello World\n"
     ]
    }
   ],
   "source": [
    "print (\"Hello World\")"
   ]
  },
  {
   "cell_type": "code",
   "execution_count": 2,
   "metadata": {},
   "outputs": [
    {
     "name": "stdout",
     "output_type": "stream",
     "text": [
      "Happy New Year 2025\n"
     ]
    }
   ],
   "source": [
    "A = \"Happy New Year\"\n",
    "B = sum (i**3 for i in range(10))  \n",
    "print (A ,B)"
   ]
  },
  {
   "cell_type": "code",
   "execution_count": 3,
   "metadata": {},
   "outputs": [
    {
     "name": "stdout",
     "output_type": "stream",
     "text": [
      "ajk january fast day i'm promiss my self i'm try to my best\n",
      "i know fast time so many mistake my code but i'm try to my best day by day\n",
      "this year i'm try to my best time spend my computer and i'm try to success my dream\n",
      "Sapnil Saha Niloy Machine learning Engineer This is my target 2025 so god pray for me\n"
     ]
    }
   ],
   "source": [
    "Today = \"ajk january fast day i'm promiss my self i'm try to my best\"\n",
    "print(Today) \n",
    "\n",
    "mistake = \"i know fast time so many mistake my code but i'm try to my best day by day\"\n",
    "print (mistake)\n",
    "\n",
    "hard_work = \"this year i'm try to my best time spend my computer and i'm try to success my dream\"\n",
    "print (hard_work)\n",
    "\n",
    "Dream = \"Sapnil Saha Niloy Machine learning Engineer This is my target 2025 so god pray for me\"\n",
    "print (Dream)\n"
   ]
  },
  {
   "cell_type": "markdown",
   "metadata": {},
   "source": [
    "python print() function example please follow and deep attention my dear self niloy"
   ]
  },
  {
   "cell_type": "code",
   "execution_count": 4,
   "metadata": {},
   "outputs": [
    {
     "name": "stdout",
     "output_type": "stream",
     "text": [
      "My name is sapnil Saha Niloy and I'm a new programmer and I'm 19+ \n"
     ]
    }
   ],
   "source": [
    "print(\"My name is sapnil Saha Niloy\", \"I'm a new programmer\",\"I'm 19+ \", sep=\" and \") \n",
    "#code outputs ctrl+alt+enter #clear cell outputs alt+del  "
   ]
  },
  {
   "cell_type": "markdown",
   "metadata": {},
   "source": [
    "python variable example please follow and deep attention my dear self niloy\n",
    "                          var = \"my name niloy\"\n",
    "                          print (var) #this is variable type    \n",
    "                          var = \"my name niloy\"\n",
    "                          print (\"var\") #this is not a variable this str type      "
   ]
  },
  {
   "cell_type": "code",
   "execution_count": 5,
   "metadata": {},
   "outputs": [
    {
     "name": "stdout",
     "output_type": "stream",
     "text": [
      "2:50 AM 02/01/2015 Now i'm try too python programing\n"
     ]
    }
   ],
   "source": [
    "A = \"2:50 AM 02/01/2015 Now i'm try too python programing\" #this variable type data\n",
    "print(A)"
   ]
  },
  {
   "cell_type": "code",
   "execution_count": 6,
   "metadata": {},
   "outputs": [
    {
     "name": "stdout",
     "output_type": "stream",
     "text": [
      "A\n"
     ]
    }
   ],
   "source": [
    "B= \"2:50 AM 02/01/2025 Now i'm try python programing\" #this not variable type data\n",
    "print(\"A\")#look what change and problem this code"
   ]
  },
  {
   "cell_type": "code",
   "execution_count": 7,
   "metadata": {},
   "outputs": [
    {
     "name": "stdout",
     "output_type": "stream",
     "text": [
      "I will sleep after a 30 minutes. 2:50 AM 02/01/2015 Now i'm try too python programing\n"
     ]
    }
   ],
   "source": [
    "print(\"I will sleep after a 30 minutes. \"+A ) #look add something for variable print function follow code"
   ]
  },
  {
   "cell_type": "markdown",
   "metadata": {},
   "source": [
    "variable multi word name example\n",
    "\n",
    "#NAME                    CamelCaseVariable      \n",
    "#Name                    Pascalcasevariable        \n",
    "#my_name                 snake_case_variable"
   ]
  },
  {
   "cell_type": "code",
   "execution_count": 8,
   "metadata": {},
   "outputs": [
    {
     "name": "stdout",
     "output_type": "stream",
     "text": [
      "('NILOY', '19+')\n",
      "('NILOY', '19+')\n",
      "('NILOY', '19+')\n"
     ]
    }
   ],
   "source": [
    "NAME= \"NILOY\" , \"19+\"  #camel case var\n",
    "print(NAME)\n",
    "Name = \"NILOY\",\"19+\"  #Pascal case var\n",
    "print(Name) \n",
    "my_name = \"NILOY\", \"19+\" #snakea_case_var\n",
    "print(my_name)"
   ]
  },
  {
   "cell_type": "markdown",
   "metadata": {},
   "source": [
    "local and global variable example "
   ]
  },
  {
   "cell_type": "code",
   "execution_count": 9,
   "metadata": {},
   "outputs": [
    {
     "name": "stdout",
     "output_type": "stream",
     "text": [
      "Yes you know  I'm a new programer\n",
      "My name is : NILOY SAHA 19 + \n"
     ]
    }
   ],
   "source": [
    "global_var = \"NILOY SAHA \" \"19 + \" #global\n",
    " \n",
    "def function1 ():\n",
    "    global local_var #add to global_var_fanction\n",
    "    local_var = \"I'm a new programer\" #local\n",
    "    print(\"Yes you know \", local_var)\n",
    "function1()\n",
    "print(\"My name is :\", global_var)"
   ]
  }
 ],
 "metadata": {
  "kernelspec": {
   "display_name": "myenv",
   "language": "python",
   "name": "python3"
  },
  "language_info": {
   "codemirror_mode": {
    "name": "ipython",
    "version": 3
   },
   "file_extension": ".py",
   "mimetype": "text/x-python",
   "name": "python",
   "nbconvert_exporter": "python",
   "pygments_lexer": "ipython3",
   "version": "3.13.1"
  }
 },
 "nbformat": 4,
 "nbformat_minor": 2
}
