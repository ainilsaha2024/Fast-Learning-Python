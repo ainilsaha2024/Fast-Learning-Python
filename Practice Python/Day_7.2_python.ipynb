{
 "cells": [
  {
   "cell_type": "markdown",
   "metadata": {},
   "source": [
    "# List Comprehension: Elegant Way to Create List in Python\n",
    "\n",
    "List comprehensions provide a concise way to create lists in Python. It is a powerful feature that allows you to generate lists in a single line of code, making your code more readable and expressive.\n",
    "\n",
    "## Basic Syntax\n",
    "\n",
    "The basic syntax of a list comprehension is:\n",
    "\n",
    "```python\n",
    "[expression for item in iterable if condition]\n",
    "\n"
   ]
  },
  {
   "cell_type": "markdown",
   "metadata": {},
   "source": [
    "1. expression: The expression to evaluate for each item in the iterable.\n",
    "2. item: The current item in the iterable.\n",
    "3. iterable: A collection of items.\n",
    "4. condition (optional): A conditional filter that can be applied to the items."
   ]
  },
  {
   "cell_type": "markdown",
   "metadata": {},
   "source": [
    "# Simple List Comprehension\n",
    "Let's start with a simple example: creating a list of squares for numbers from 0 to 9."
   ]
  },
  {
   "cell_type": "code",
   "execution_count": 1,
   "metadata": {},
   "outputs": [
    {
     "name": "stdout",
     "output_type": "stream",
     "text": [
      "[0, 1, 4, 9, 16, 25, 36, 49, 64, 81]\n"
     ]
    }
   ],
   "source": [
    "squares = [x**2 for x in range (10)] # this iws list comprehension \n",
    "print(squares)"
   ]
  },
  {
   "cell_type": "code",
   "execution_count": 2,
   "metadata": {},
   "outputs": [
    {
     "data": {
      "text/plain": [
       "[0, 1, 2, 3, 4, 5, 6, 7, 8, 9]"
      ]
     },
     "execution_count": 2,
     "metadata": {},
     "output_type": "execute_result"
    }
   ],
   "source": [
    "[ x for x in range(10)] "
   ]
  },
  {
   "cell_type": "code",
   "execution_count": 3,
   "metadata": {},
   "outputs": [
    {
     "name": "stdout",
     "output_type": "stream",
     "text": [
      "0\n",
      "1\n",
      "2\n",
      "3\n",
      "4\n",
      "5\n",
      "6\n",
      "7\n",
      "8\n",
      "9\n"
     ]
    }
   ],
   "source": [
    "for x in range (10): #this for loop result \n",
    "    print (x)"
   ]
  },
  {
   "cell_type": "markdown",
   "metadata": {},
   "source": [
    "List Comprehension with Condition\n",
    "You can add a condition to the list comprehension to filter items. For example, creating a list of even numbers from 0 to 9:"
   ]
  },
  {
   "cell_type": "code",
   "execution_count": 8,
   "metadata": {},
   "outputs": [
    {
     "name": "stdout",
     "output_type": "stream",
     "text": [
      "[0, 2, 4, 6, 8]\n"
     ]
    }
   ],
   "source": [
    "data1 =[ x for x in range(10) if x%2 == 0] #condition result list comprehension \n",
    "print (data1)"
   ]
  },
  {
   "cell_type": "code",
   "execution_count": 44,
   "metadata": {},
   "outputs": [
    {
     "data": {
      "text/plain": [
       "['i', ' ', 'd', 'o', 'n', \"'\", 't', ' ', 'l', 'o', 'v', 'e', ' ', 'M', 'L']"
      ]
     },
     "execution_count": 44,
     "metadata": {},
     "output_type": "execute_result"
    }
   ],
   "source": [
    "data2 = [\"i don't love ML\"]\n",
    "[ x for x in x ]"
   ]
  },
  {
   "cell_type": "code",
   "execution_count": 54,
   "metadata": {},
   "outputs": [
    {
     "data": {
      "text/plain": [
       "['i', 'love', 'ML']"
      ]
     },
     "execution_count": 54,
     "metadata": {},
     "output_type": "execute_result"
    }
   ],
   "source": [
    "data = \"i don't love ML \"\n",
    "data = data.split()\n",
    "[ x for x in data if x!=\"don't\"]"
   ]
  },
  {
   "cell_type": "markdown",
   "metadata": {},
   "source": [
    "# Creating a Matrix Using List Comprehension in Python\n",
    "\n",
    "List comprehensions can be used to create complex data structures efficiently and concisely. Below is an example of using nested list comprehensions to create a matrix python"
   ]
  },
  {
   "cell_type": "code",
   "execution_count": 56,
   "metadata": {},
   "outputs": [
    {
     "name": "stdout",
     "output_type": "stream",
     "text": [
      "[[0, 1, 2, 3, 4, 5], [0, 1, 2, 3, 4, 5], [0, 1, 2, 3, 4, 5]]\n"
     ]
    }
   ],
   "source": [
    "nil =[[ x for x in range (6)]for i in range (3)]\n",
    "print(nil)"
   ]
  },
  {
   "cell_type": "markdown",
   "metadata": {},
   "source": [
    "# Using Functions in List Comprehensions\n",
    "You can also use functions within list comprehensions. For example, creating a list of lengths of each word in a list:"
   ]
  },
  {
   "cell_type": "code",
   "execution_count": 57,
   "metadata": {},
   "outputs": [
    {
     "name": "stdout",
     "output_type": "stream",
     "text": [
      "[5, 6, 4, 4]\n"
     ]
    }
   ],
   "source": [
    " z = [\"niloy\",\"sapnil\",\"saha\",\"nilu\"]\n",
    "len1 = [len(z) for z in z]\n",
    "print(len1)"
   ]
  }
 ],
 "metadata": {
  "kernelspec": {
   "display_name": "myenv",
   "language": "python",
   "name": "python3"
  },
  "language_info": {
   "codemirror_mode": {
    "name": "ipython",
    "version": 3
   },
   "file_extension": ".py",
   "mimetype": "text/x-python",
   "name": "python",
   "nbconvert_exporter": "python",
   "pygments_lexer": "ipython3",
   "version": "3.13.1"
  }
 },
 "nbformat": 4,
 "nbformat_minor": 2
}
