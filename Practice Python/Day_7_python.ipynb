{
 "cells": [
  {
   "cell_type": "markdown",
   "metadata": {},
   "source": [
    "Python Data Structures list [], set {}, tuples (), dictionary {}"
   ]
  },
  {
   "cell_type": "code",
   "execution_count": 1,
   "metadata": {},
   "outputs": [
    {
     "name": "stdout",
     "output_type": "stream",
     "text": [
      "<class 'list'>\n"
     ]
    }
   ],
   "source": [
    "# list data all data type allow \n",
    "\n",
    "list1 = [ 1,2,3, 'ml',2.5,2025, (\"ai\" ,\"dl\" ,\"ml\"), { \"nil\",\"niloy\", \"nilu \"}]\n",
    "print(type(list1))"
   ]
  },
  {
   "cell_type": "code",
   "execution_count": 2,
   "metadata": {},
   "outputs": [
    {
     "data": {
      "text/plain": [
       "{'nil', 'niloy', 'nilu '}"
      ]
     },
     "execution_count": 2,
     "metadata": {},
     "output_type": "execute_result"
    }
   ],
   "source": [
    "#list indexing you know list type data oder mentain this is last index main var [ ]\n",
    "\n",
    "list1[-1]"
   ]
  },
  {
   "cell_type": "code",
   "execution_count": 3,
   "metadata": {},
   "outputs": [
    {
     "data": {
      "text/plain": [
       "2.5"
      ]
     },
     "execution_count": 3,
     "metadata": {},
     "output_type": "execute_result"
    }
   ],
   "source": [
    "list1 [4]"
   ]
  },
  {
   "cell_type": "code",
   "execution_count": 4,
   "metadata": {},
   "outputs": [
    {
     "data": {
      "text/plain": [
       "[1, 2, 3, 'ml', 2.5, 2025, ('ai', 'dl', 'ml'), {'nil', 'niloy', 'nilu '}]"
      ]
     },
     "execution_count": 4,
     "metadata": {},
     "output_type": "execute_result"
    }
   ],
   "source": [
    "list1[0:8]"
   ]
  },
  {
   "cell_type": "code",
   "execution_count": 5,
   "metadata": {},
   "outputs": [
    {
     "data": {
      "text/plain": [
       "{'nil', 'niloy', 'nilu '}"
      ]
     },
     "execution_count": 5,
     "metadata": {},
     "output_type": "execute_result"
    }
   ],
   "source": [
    "list1[7]"
   ]
  },
  {
   "cell_type": "code",
   "execution_count": 6,
   "metadata": {},
   "outputs": [
    {
     "name": "stdout",
     "output_type": "stream",
     "text": [
      "[1, 2, 3, 'ml', 2.5, 2025, ('ai', 'dl', 'ml'), 'my name sapnil saha ']\n"
     ]
    }
   ],
   "source": [
    "#list type data value mutable or changeable [ ]\n",
    "\n",
    "list1 [7] = \"my name sapnil saha \" #change 7 index element \n",
    "print(list1)"
   ]
  },
  {
   "cell_type": "code",
   "execution_count": 7,
   "metadata": {},
   "outputs": [
    {
     "name": "stdout",
     "output_type": "stream",
     "text": [
      "[1, 2, 3, 'ml', 2.5, 2025, ('ai', 'dl', 'ml'), 'my name sapnil saha ', 'try more plz']\n"
     ]
    }
   ],
   "source": [
    "#list append mathods ()\n",
    "\n",
    "list1.append(\"try more plz\")\n",
    "print(list1)"
   ]
  },
  {
   "cell_type": "code",
   "execution_count": 8,
   "metadata": {},
   "outputs": [
    {
     "name": "stdout",
     "output_type": "stream",
     "text": [
      "[1, 2, 3, 'ml', 2.5, 2025, ('ai', 'dl', 'ml'), 'my name sapnil saha ', 'try more plz', 2.5]\n"
     ]
    }
   ],
   "source": [
    "#again 2.5 float element use to list1 var with append mathods\n",
    "\n",
    "list1.append(2.5)\n",
    "print(list1)"
   ]
  },
  {
   "cell_type": "code",
   "execution_count": 9,
   "metadata": {},
   "outputs": [
    {
     "name": "stdout",
     "output_type": "stream",
     "text": [
      "[1, 2, 3, 'ml', 2.5, 2025, ('ai', 'dl', 'ml'), 'my name sapnil saha ', 'try more plz']\n"
     ]
    }
   ],
   "source": [
    "#use just pop mathods list type data var.pop() deleted last element \n",
    "#last element 2.5 and seen result \n",
    "\n",
    "list1.pop()\n",
    "print(list1)"
   ]
  },
  {
   "cell_type": "code",
   "execution_count": 10,
   "metadata": {},
   "outputs": [
    {
     "name": "stdout",
     "output_type": "stream",
     "text": [
      "[1, 2, 3, 2.5, 2025, ('ai', 'dl', 'ml'), 'my name sapnil saha ', 'try more plz']\n"
     ]
    }
   ],
   "source": [
    "#deleted element anything list var use pop mathods (index number your element )\n",
    "\n",
    "list1.pop(3)# index 3 mean \"ml\" element index number is 3\n",
    "print(list1)"
   ]
  },
  {
   "cell_type": "code",
   "execution_count": 11,
   "metadata": {},
   "outputs": [
    {
     "name": "stdout",
     "output_type": "stream",
     "text": [
      "<class 'list'>\n",
      "5\n"
     ]
    }
   ],
   "source": [
    "#Creating list using list construotor\n",
    "#  \n",
    "my = list((\"niloy\",2.5 ,(1,2,3,4,),2030,{10,20,30}))\n",
    "print(type(my))\n",
    "print(len(my)) # 5 type data this var my str ,float,tuple, int ,set "
   ]
  },
  {
   "cell_type": "code",
   "execution_count": 12,
   "metadata": {},
   "outputs": [
    {
     "data": {
      "text/plain": [
       "{10, 20, 30}"
      ]
     },
     "execution_count": 12,
     "metadata": {},
     "output_type": "execute_result"
    }
   ],
   "source": [
    "my[4] #(index = len - 1)"
   ]
  },
  {
   "cell_type": "code",
   "execution_count": 13,
   "metadata": {},
   "outputs": [
    {
     "name": "stdout",
     "output_type": "stream",
     "text": [
      "4\n"
     ]
    }
   ],
   "source": [
    "print(my[2][3]) # index 2 mean tuple data (1,2,3,4) [3] mean index 2 tuple data index 3 number = 4 result "
   ]
  },
  {
   "cell_type": "code",
   "execution_count": 14,
   "metadata": {},
   "outputs": [],
   "source": [
    "#input list from user \n",
    "#ai = [ ]\n",
    "#n = int(input(\"enter you  total index \"))\n",
    "#for i in range(n):\n",
    "    #new = input() \n",
    "    #ai.append(new)\n",
    "    \n",
    "#print(ai)"
   ]
  }
 ],
 "metadata": {
  "kernelspec": {
   "display_name": "myenv",
   "language": "python",
   "name": "python3"
  },
  "language_info": {
   "codemirror_mode": {
    "name": "ipython",
    "version": 3
   },
   "file_extension": ".py",
   "mimetype": "text/x-python",
   "name": "python",
   "nbconvert_exporter": "python",
   "pygments_lexer": "ipython3",
   "version": "3.13.1"
  }
 },
 "nbformat": 4,
 "nbformat_minor": 2
}
