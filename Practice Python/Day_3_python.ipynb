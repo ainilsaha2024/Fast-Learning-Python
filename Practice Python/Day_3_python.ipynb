{
 "cells": [
  {
   "cell_type": "markdown",
   "metadata": {},
   "source": [
    "Operators Python "
   ]
  },
  {
   "cell_type": "code",
   "execution_count": 5,
   "metadata": {},
   "outputs": [
    {
     "name": "stdout",
     "output_type": "stream",
     "text": [
      "150\n"
     ]
    }
   ],
   "source": [
    "# Arithmetic operators + , - , * , /, %, // , ** \n",
    "a = 100\n",
    "b = 50       \n",
    "print(a + b) # addition operators +"
   ]
  },
  {
   "cell_type": "code",
   "execution_count": 6,
   "metadata": {},
   "outputs": [
    {
     "name": "stdout",
     "output_type": "stream",
     "text": [
      "50\n"
     ]
    }
   ],
   "source": [
    "print (a-b)# subtraction operators -\n"
   ]
  },
  {
   "cell_type": "code",
   "execution_count": 7,
   "metadata": {},
   "outputs": [
    {
     "name": "stdout",
     "output_type": "stream",
     "text": [
      "5000\n"
     ]
    }
   ],
   "source": [
    "print(a*b) #multiplication operators *"
   ]
  },
  {
   "cell_type": "code",
   "execution_count": 8,
   "metadata": {},
   "outputs": [
    {
     "name": "stdout",
     "output_type": "stream",
     "text": [
      "2.0\n"
     ]
    }
   ],
   "source": [
    "print (a/b)#division operators /"
   ]
  },
  {
   "cell_type": "code",
   "execution_count": 9,
   "metadata": {},
   "outputs": [
    {
     "name": "stdout",
     "output_type": "stream",
     "text": [
      "0\n"
     ]
    }
   ],
   "source": [
    "print(a % b)#modulus operators % "
   ]
  },
  {
   "cell_type": "code",
   "execution_count": 10,
   "metadata": {},
   "outputs": [
    {
     "name": "stdout",
     "output_type": "stream",
     "text": [
      "False\n"
     ]
    }
   ],
   "source": [
    "print (a == b)#exponetiation operators == result true or false"
   ]
  },
  {
   "cell_type": "code",
   "execution_count": 11,
   "metadata": {},
   "outputs": [
    {
     "name": "stdout",
     "output_type": "stream",
     "text": [
      "True\n"
     ]
    }
   ],
   "source": [
    "print(a != b)#not equal operators != result true or false"
   ]
  },
  {
   "cell_type": "code",
   "execution_count": 12,
   "metadata": {},
   "outputs": [
    {
     "name": "stdout",
     "output_type": "stream",
     "text": [
      "2\n"
     ]
    }
   ],
   "source": [
    "print(a//b) #floor division operators // "
   ]
  },
  {
   "cell_type": "markdown",
   "metadata": {},
   "source": [
    "Python identity operator x is y or x is not y result true ,false "
   ]
  },
  {
   "cell_type": "code",
   "execution_count": 13,
   "metadata": {},
   "outputs": [
    {
     "name": "stdout",
     "output_type": "stream",
     "text": [
      "False\n"
     ]
    }
   ],
   "source": [
    "x = 20\n",
    "y = 30\n",
    "print(x is y) # result look"
   ]
  },
  {
   "cell_type": "code",
   "execution_count": 14,
   "metadata": {},
   "outputs": [
    {
     "name": "stdout",
     "output_type": "stream",
     "text": [
      "True\n"
     ]
    }
   ],
   "source": [
    "print (x is not y) #result look "
   ]
  },
  {
   "cell_type": "markdown",
   "metadata": {},
   "source": [
    "python bitwise Operators                                                          \n",
    " example:               \n",
    "&                        and,  \n",
    "Or                        | ,  \n",
    "xor                       ^ ,  \n",
    "not                       ~ ,  \n",
    "zero fill left shift      << ,  \n",
    "signed right shift        >> ,  "
   ]
  },
  {
   "cell_type": "markdown",
   "metadata": {},
   "source": [
    "python comparison operators                                              \n",
    "example:                                                                                                                                                \n",
    "equal                   x == y,                                                        \n",
    "not equal               x != y,                                                             \n",
    "Greater than            x > y,                                                        \n",
    "less than               x < y,                                              \n",
    "Greater than or equal   x >= y,                                        \n",
    "less than or equal      x <= y,                                         "
   ]
  },
  {
   "cell_type": "markdown",
   "metadata": {},
   "source": [
    "python logical operators result true ,flase                                                        \n",
    "example :                                                                     \n",
    "and                 x < 5 and x < 10  ,                                                                \n",
    "or                  x < 5 or x < 10   ,                                                                         \n",
    "not                 not(x < 5 and x < 10)                                                                  "
   ]
  },
  {
   "cell_type": "markdown",
   "metadata": {},
   "source": [
    "python assingment operators "
   ]
  },
  {
   "cell_type": "code",
   "execution_count": 15,
   "metadata": {},
   "outputs": [],
   "source": [
    "# assingment operators \n",
    "#operators =   example x =  5 same as x = 5\n",
    "#operators +=  example x+=  3 same as x = x +  3\n",
    "#operators -=  example x-=  3 same as x = x -  3\n",
    "#operators *=  example x*=  3 same as x = x *  3\n",
    "#operators /=  example x/=  3 same as x = x /  3\n",
    "#operators %=  example x%=  3 same as x = x %  3\n",
    "#operators //= example x//= 3 same as x = x // 3\n",
    "#operators **= example x**= 3 same as x = x ** 3\n",
    "#operators &=  example x&=  3 same as x = x &  3 \n",
    "#operators !=  example x!=  3 same as x = x !  3\n",
    "#operators ^=  example x^=  3 same as x = x ^  3\n",
    "#operators <<= example x<<= 3 same as x = x << 3 \n",
    "#operators >>= example x>>= 3 same as x = x >> 3\n",
    "\n"
   ]
  },
  {
   "cell_type": "code",
   "execution_count": null,
   "metadata": {},
   "outputs": [],
   "source": []
  }
 ],
 "metadata": {
  "kernelspec": {
   "display_name": "myenv",
   "language": "python",
   "name": "python3"
  },
  "language_info": {
   "codemirror_mode": {
    "name": "ipython",
    "version": 3
   },
   "file_extension": ".py",
   "mimetype": "text/x-python",
   "name": "python",
   "nbconvert_exporter": "python",
   "pygments_lexer": "ipython3",
   "version": "3.13.1"
  }
 },
 "nbformat": 4,
 "nbformat_minor": 2
}
