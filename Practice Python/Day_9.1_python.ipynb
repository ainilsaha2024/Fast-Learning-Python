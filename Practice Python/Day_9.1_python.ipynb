{
 "cells": [
  {
   "cell_type": "markdown",
   "metadata": {},
   "source": [
    "# Frozen set in Python Unchangeable all "
   ]
  },
  {
   "cell_type": "code",
   "execution_count": 71,
   "metadata": {},
   "outputs": [
    {
     "name": "stdout",
     "output_type": "stream",
     "text": [
      "<class 'set'>\n",
      "{1, 2, 3, 4, 5, 'sapnil saha', ('du', 'JU')}\n"
     ]
    }
   ],
   "source": [
    "#frozen set \n",
    "set1 = { \"sapnil saha\",1,2,3,5,4,(\"du\",\"JU\")}\n",
    "print (type (set1))\n",
    "print(set1)"
   ]
  },
  {
   "cell_type": "code",
   "execution_count": 72,
   "metadata": {},
   "outputs": [
    {
     "name": "stdout",
     "output_type": "stream",
     "text": [
      "{1, 2, 3, 4, 5, 'sapnil saha', 'Ai', ('du', 'JU')}\n"
     ]
    }
   ],
   "source": [
    "#set1.add(\"Ai\")\n",
    "print (set1)"
   ]
  },
  {
   "cell_type": "markdown",
   "metadata": {},
   "source": [
    "# Frozenset( ) function "
   ]
  },
  {
   "cell_type": "code",
   "execution_count": 73,
   "metadata": {},
   "outputs": [
    {
     "name": "stdout",
     "output_type": "stream",
     "text": [
      "{1, 2, 3, 4, 5, 'sapnil saha', 'Ai', ('du', 'JU')}\n",
      "<class 'frozenset'>\n",
      "frozenset({1, 2, 3, 4, 5, 'Ai', ('du', 'JU'), 'sapnil saha'})\n"
     ]
    }
   ],
   "source": [
    "print (set1) \n",
    "x =frozenset(set1) #use frozenset( ) function \n",
    "print (type(x)) #set type data convert to frozenset \n",
    "print(x)#print frozenset"
   ]
  },
  {
   "cell_type": "code",
   "execution_count": 74,
   "metadata": {},
   "outputs": [],
   "source": [
    "#x.add(\"niloy\")  # x var mean frozenset type \n",
    "#print (x)       #frozenset not work add function so show result error \n",
    "#### Frozenset don't woked set.remove(),set.add() set.discrad() ####"
   ]
  },
  {
   "cell_type": "markdown",
   "metadata": {},
   "source": [
    "# again list type data frozenset( ) function"
   ]
  },
  {
   "cell_type": "code",
   "execution_count": 75,
   "metadata": {},
   "outputs": [
    {
     "name": "stdout",
     "output_type": "stream",
     "text": [
      "<class 'list'>\n",
      "[1, 2, 3, 4, 'sapnil', ('DU', 'JU')]\n"
     ]
    }
   ],
   "source": [
    "l = [1,2,3,4,\"sapnil\",(\"DU\",\"JU\")]\n",
    "print(type(l))\n",
    "print (l)\n"
   ]
  },
  {
   "cell_type": "code",
   "execution_count": 76,
   "metadata": {},
   "outputs": [
    {
     "name": "stdout",
     "output_type": "stream",
     "text": [
      "<class 'frozenset'>\n",
      "frozenset({1, 2, 3, 4, ('DU', 'JU'), 'sapnil'})\n"
     ]
    }
   ],
   "source": [
    "# list type data convert frozenset function \n",
    "y = frozenset(l) #forzenset convert list type data\n",
    "print(type(y)) #y var show frozenset conver result\n",
    "print(y) #look result show y var frozenset \n"
   ]
  },
  {
   "cell_type": "code",
   "execution_count": 77,
   "metadata": {},
   "outputs": [
    {
     "data": {
      "text/plain": [
       "1"
      ]
     },
     "execution_count": 77,
     "metadata": {},
     "output_type": "execute_result"
    }
   ],
   "source": [
    "l[0] #list index result "
   ]
  },
  {
   "cell_type": "code",
   "execution_count": 78,
   "metadata": {},
   "outputs": [
    {
     "name": "stdout",
     "output_type": "stream",
     "text": [
      "<class 'frozenset'>\n",
      "<class 'frozenset'>\n",
      "frozenset({1, 2, 3, 4, 5, 10})\n",
      "frozenset({6, 7, 8, 9, 10})\n"
     ]
    }
   ],
   "source": [
    "# set var\n",
    "ai = { 1,2,3,4,5,10} \n",
    "ml = {6,7,8,9,10}\n",
    "# convert set type data to frozenset()  n var , d var\n",
    "n = frozenset(ai)\n",
    "d = frozenset(ml)\n",
    "# n var ,d var type \n",
    "print(type(n))\n",
    "print(type(d))\n",
    "# show result frozenset type n var,d var \n",
    "print (n)\n",
    "print(d)"
   ]
  },
  {
   "cell_type": "code",
   "execution_count": 79,
   "metadata": {},
   "outputs": [
    {
     "name": "stdout",
     "output_type": "stream",
     "text": [
      "frozenset({1, 2, 3, 4, 5, 6, 7, 8, 9, 10})\n"
     ]
    }
   ],
   "source": [
    "# frozenset union ( ) union mean show all common element \n",
    "# note n var common 10 element and d var 10 common element but one inputed 10 bcz this is union\n",
    "frozenset_union = n.union(d) #look n var union d var so n var and d var all  common elemnet show  \n",
    "print(frozenset_union)"
   ]
  },
  {
   "cell_type": "code",
   "execution_count": 80,
   "metadata": {},
   "outputs": [
    {
     "name": "stdout",
     "output_type": "stream",
     "text": [
      "frozenset({10})\n"
     ]
    }
   ],
   "source": [
    "# frozenset intersection ( ) var common element output frozenset () intersection\n",
    "# note n var 10 common d var 10 common so interscetion result show 10 \n",
    "frozenset_intersection= n.intersection(d)\n",
    "print(frozenset_intersection) \n"
   ]
  },
  {
   "cell_type": "code",
   "execution_count": 81,
   "metadata": {},
   "outputs": [
    {
     "name": "stdout",
     "output_type": "stream",
     "text": [
      "frozenset({'p', 'm', 'y', 's', 'h', 'l', 'n', 'a', ' ', 'o', 'i', \"'\"})\n"
     ]
    }
   ],
   "source": [
    "#frozenset() convert str type data \n",
    "s = \"i'm sapnil saha niloy\"\n",
    "s2 = frozenset(s) # str type data frozenset result show rendonly bcz unoderable \n",
    "print(s2)"
   ]
  },
  {
   "cell_type": "code",
   "execution_count": 82,
   "metadata": {},
   "outputs": [
    {
     "data": {
      "text/plain": [
       "[list['p'],\n",
       " list['m'],\n",
       " list['y'],\n",
       " list['s'],\n",
       " list['h'],\n",
       " list['l'],\n",
       " list['n'],\n",
       " list['a'],\n",
       " list[' '],\n",
       " list['o'],\n",
       " list['i'],\n",
       " list[\"'\"]]"
      ]
     },
     "execution_count": 82,
     "metadata": {},
     "output_type": "execute_result"
    }
   ],
   "source": [
    "#frozenset convert List Comprehension\n",
    "#List Comprehension\n",
    "[list[q]for q in s2]"
   ]
  },
  {
   "cell_type": "code",
   "execution_count": 83,
   "metadata": {},
   "outputs": [
    {
     "data": {
      "text/plain": [
       "[('p',),\n",
       " ('m',),\n",
       " ('y',),\n",
       " ('s',),\n",
       " ('h',),\n",
       " ('l',),\n",
       " ('n',),\n",
       " ('a',),\n",
       " (' ',),\n",
       " ('o',),\n",
       " ('i',),\n",
       " (\"'\",)]"
      ]
     },
     "execution_count": 83,
     "metadata": {},
     "output_type": "execute_result"
    }
   ],
   "source": [
    "#frozenset convert tuple type data \n",
    "#list comprehension to tuple type data result use frozenset type data \n",
    "[tuple(w)for w in s2]"
   ]
  },
  {
   "cell_type": "code",
   "execution_count": 89,
   "metadata": {},
   "outputs": [
    {
     "ename": "TypeError",
     "evalue": "'set' object is not callable",
     "output_type": "error",
     "traceback": [
      "\u001b[1;31m---------------------------------------------------------------------------\u001b[0m",
      "\u001b[1;31mTypeError\u001b[0m                                 Traceback (most recent call last)",
      "Cell \u001b[1;32mIn[89], line 3\u001b[0m\n\u001b[0;32m      1\u001b[0m \u001b[38;5;66;03m#frozenset convert set type data \u001b[39;00m\n\u001b[0;32m      2\u001b[0m \u001b[38;5;66;03m#list comprehension to set type data result use frozenset type data\u001b[39;00m\n\u001b[1;32m----> 3\u001b[0m [ \u001b[38;5;28;43mset\u001b[39;49m\u001b[43m(\u001b[49m\u001b[43mz\u001b[49m\u001b[43m)\u001b[49m \u001b[38;5;28;01mfor\u001b[39;00m z \u001b[38;5;129;01min\u001b[39;00m s2 ]\n",
      "\u001b[1;31mTypeError\u001b[0m: 'set' object is not callable"
     ]
    }
   ],
   "source": [
    "#frozenset convert set type data \n",
    "#list comprehension to set type data result use frozenset type data\n",
    "[ set(z) for z in s2 ]"
   ]
  },
  {
   "cell_type": "code",
   "execution_count": null,
   "metadata": {},
   "outputs": [],
   "source": []
  },
  {
   "cell_type": "code",
   "execution_count": null,
   "metadata": {},
   "outputs": [],
   "source": []
  },
  {
   "cell_type": "code",
   "execution_count": null,
   "metadata": {},
   "outputs": [],
   "source": []
  }
 ],
 "metadata": {
  "kernelspec": {
   "display_name": "myenv",
   "language": "python",
   "name": "python3"
  },
  "language_info": {
   "codemirror_mode": {
    "name": "ipython",
    "version": 3
   },
   "file_extension": ".py",
   "mimetype": "text/x-python",
   "name": "python",
   "nbconvert_exporter": "python",
   "pygments_lexer": "ipython3",
   "version": "3.13.1"
  }
 },
 "nbformat": 4,
 "nbformat_minor": 2
}
