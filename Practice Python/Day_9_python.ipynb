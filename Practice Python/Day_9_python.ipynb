{
 "cells": [
  {
   "cell_type": "markdown",
   "metadata": {},
   "source": [
    "# Python set type data { } don't change element you set { } var \n",
    "\n"
   ]
  },
  {
   "cell_type": "code",
   "execution_count": 5,
   "metadata": {},
   "outputs": [
    {
     "name": "stdout",
     "output_type": "stream",
     "text": [
      "<class 'set'>\n",
      "{1, 2.5, 3, 2, 4, (10, 20, 30, 40), 'sapnil saha'}\n"
     ]
    }
   ],
   "source": [
    "set1={ 1,2,3,4,2.5,True,\"sapnil saha\", (10,20,30,40)} #set type data you don't use list type data [ ]\n",
    "print(type(set1))\n",
    "print(set1)"
   ]
  },
  {
   "cell_type": "code",
   "execution_count": 11,
   "metadata": {},
   "outputs": [
    {
     "name": "stdout",
     "output_type": "stream",
     "text": [
      "<class 'list'>\n",
      "<class 'dict'>\n"
     ]
    }
   ],
   "source": [
    "li =[1,2,3,4,\"sapnil saha\",(\"du\",\"ju\"),True,2.5,{\"raipuira\",\"narsingdi\"}] \n",
    "a ={ }\n",
    "print(type(li)) #list type data \n",
    "print(type(a)) #this type dict type data not set type data "
   ]
  },
  {
   "cell_type": "code",
   "execution_count": 19,
   "metadata": {},
   "outputs": [
    {
     "name": "stdout",
     "output_type": "stream",
     "text": [
      "{1, 2.5, 3, 2, 4, (10, 20, 30, 40), 'sapnil saha'}\n"
     ]
    }
   ],
   "source": [
    "print(set1)\n"
   ]
  },
  {
   "cell_type": "code",
   "execution_count": 20,
   "metadata": {},
   "outputs": [
    {
     "ename": "TypeError",
     "evalue": "'set' object is not subscriptable",
     "output_type": "error",
     "traceback": [
      "\u001b[1;31m---------------------------------------------------------------------------\u001b[0m",
      "\u001b[1;31mTypeError\u001b[0m                                 Traceback (most recent call last)",
      "Cell \u001b[1;32mIn[20], line 1\u001b[0m\n\u001b[1;32m----> 1\u001b[0m \u001b[43mset1\u001b[49m\u001b[43m[\u001b[49m\u001b[38;5;241;43m0\u001b[39;49m\u001b[43m]\u001b[49m\u001b[38;5;66;03m#set typy data unoder don't work index result show error \u001b[39;00m\n",
      "\u001b[1;31mTypeError\u001b[0m: 'set' object is not subscriptable"
     ]
    }
   ],
   "source": [
    "#set1[0] #set typy data unoder don't work index result show error "
   ]
  },
  {
   "cell_type": "code",
   "execution_count": 21,
   "metadata": {},
   "outputs": [
    {
     "name": "stdout",
     "output_type": "stream",
     "text": [
      "{1, 2.5, 3, 2, 4, (10, 20, 30, 40), 'sapnil saha', 'my name ai'}\n"
     ]
    }
   ],
   "source": [
    "set1.add(\"my name ai\") #set add function use adding something \n",
    "print(set1)"
   ]
  },
  {
   "cell_type": "code",
   "execution_count": 36,
   "metadata": {},
   "outputs": [
    {
     "name": "stdout",
     "output_type": "stream",
     "text": [
      "{1, 3, 2, 4, 10, 'sapnil saha', 'my name ai', 1000, 'ML', (10, 20, 30, 40)}\n",
      "<class 'set'>\n"
     ]
    }
   ],
   "source": [
    "#update  function set but set dont'n work multipol value just show 1000 one type\n",
    "set1.update([1000,1000,10,10,\"ML\"]) #but set.update function( [ ]) [] use this \n",
    "print(set1)\n",
    "print(type(set1))"
   ]
  },
  {
   "cell_type": "code",
   "execution_count": 37,
   "metadata": {},
   "outputs": [
    {
     "name": "stdout",
     "output_type": "stream",
     "text": [
      "{1, 3, 2, 4, 'sapnil saha', 'my name ai', 1000, (10, 20, 30, 40)}\n"
     ]
    }
   ],
   "source": [
    "#set type data remove funtion set,remove (\"\") just one element remove not tow element like set.update(\"ai\",\"ml\")\n",
    "set1.remove(\"ML\")\n",
    "set1.remove(10)#remove function just one argument work\n",
    "#set1.remove(4,\"sapnil saha\") tow argument not work \n",
    "print(set1)"
   ]
  },
  {
   "cell_type": "code",
   "execution_count": 42,
   "metadata": {},
   "outputs": [
    {
     "name": "stdout",
     "output_type": "stream",
     "text": [
      "{1, 3, 2, 4, 'my name ai', 1000, (10, 20, 30, 40)}\n"
     ]
    }
   ],
   "source": [
    "#set.discrad( ) funtion use to deleted valu \n",
    "set1.discard(\"sapnil saha\")\n",
    "print(set1)"
   ]
  },
  {
   "cell_type": "code",
   "execution_count": 43,
   "metadata": {},
   "outputs": [
    {
     "data": {
      "text/plain": [
       "True"
      ]
     },
     "execution_count": 43,
     "metadata": {},
     "output_type": "execute_result"
    }
   ],
   "source": [
    "(10,20,30,40) in set1 \n"
   ]
  },
  {
   "cell_type": "code",
   "execution_count": 46,
   "metadata": {},
   "outputs": [
    {
     "name": "stdout",
     "output_type": "stream",
     "text": [
      "{3, 2, 4, 'my name ai', 1000, (10, 20, 30, 40)}\n"
     ]
    }
   ],
   "source": [
    "#set.pop() function just  one element deleted look show result\n",
    "set1.pop()\n",
    "print(set1)"
   ]
  },
  {
   "cell_type": "code",
   "execution_count": 48,
   "metadata": {},
   "outputs": [],
   "source": [
    "set1.clear() # set.clear function use too all clear "
   ]
  },
  {
   "cell_type": "code",
   "execution_count": 49,
   "metadata": {},
   "outputs": [
    {
     "name": "stdout",
     "output_type": "stream",
     "text": [
      "set()\n"
     ]
    }
   ],
   "source": [
    "print(set1) # show result set clear function result "
   ]
  }
 ],
 "metadata": {
  "kernelspec": {
   "display_name": "myenv",
   "language": "python",
   "name": "python3"
  },
  "language_info": {
   "codemirror_mode": {
    "name": "ipython",
    "version": 3
   },
   "file_extension": ".py",
   "mimetype": "text/x-python",
   "name": "python",
   "nbconvert_exporter": "python",
   "pygments_lexer": "ipython3",
   "version": "3.13.1"
  }
 },
 "nbformat": 4,
 "nbformat_minor": 2
}
