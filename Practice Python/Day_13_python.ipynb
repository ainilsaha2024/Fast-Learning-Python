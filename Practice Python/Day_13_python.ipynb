{
 "cells": [
  {
   "cell_type": "markdown",
   "metadata": {},
   "source": [
    "# How to search and replace text in a file in Python ?"
   ]
  },
  {
   "cell_type": "code",
   "execution_count": 1,
   "metadata": {},
   "outputs": [],
   "source": [
    "search_word = \"Ml\" # fast real word var \n",
    "replace_word = \"AI\" #how change var \n",
    "#with call and call open function (\"real file name\"\"r\") as file : condition \n",
    "with open(\"Day_13_txt_file.txt\", \"r\") as file : #\"r\" mean read file\n",
    "    data = file.read() #data new var = file condition .read()\n",
    "#data var = data.replace function call and (1st call real var, 2nd call change var )\n",
    "    data =data.replace(search_word,replace_word)\n",
    "\n",
    "#call with open function (\"main file name \",\"w\" mean write file) as file : condition \n",
    "with open(\"Day_13_txt_file.txt\",\"w\") as file :\n",
    "    file.write(data)#file.write(new var like data)"
   ]
  },
  {
   "cell_type": "code",
   "execution_count": 3,
   "metadata": {},
   "outputs": [
    {
     "data": {
      "text/plain": [
       "\"My name is Sapnil Saha Niloy . I'm a AI learner . I'm a Student in class 12th . I'm 19 years old\""
      ]
     },
     "execution_count": 3,
     "metadata": {},
     "output_type": "execute_result"
    }
   ],
   "source": [
    "import re  # re mean  regular expressions\n",
    "text = \"My name is Sapnil Saha Niloy . I'm a AI learner . I'm a Student in class XI . I'm 19 years old\" #main text var \n",
    "s = \"class XI\" # s var mean search/ main text var real word \n",
    "r =\"class 12th\" #r var mean replace / what changes \n",
    "re.sub(s,r,text) #fast call re.sub function (search var ,replace var, main text var)\n",
    "#look show result "
   ]
  }
 ],
 "metadata": {
  "kernelspec": {
   "display_name": "myenv",
   "language": "python",
   "name": "python3"
  },
  "language_info": {
   "codemirror_mode": {
    "name": "ipython",
    "version": 3
   },
   "file_extension": ".py",
   "mimetype": "text/x-python",
   "name": "python",
   "nbconvert_exporter": "python",
   "pygments_lexer": "ipython3",
   "version": "3.13.1"
  }
 },
 "nbformat": 4,
 "nbformat_minor": 2
}
