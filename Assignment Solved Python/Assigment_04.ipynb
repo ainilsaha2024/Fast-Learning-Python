{
 "cells": [
  {
   "cell_type": "markdown",
   "metadata": {},
   "source": [
    "# Assignment 4 "
   ]
  },
  {
   "cell_type": "markdown",
   "metadata": {},
   "source": [
    "# Problem 1: List Sum"
   ]
  },
  {
   "cell_type": "markdown",
   "metadata": {},
   "source": [
    "Write a Python function that takes a list of numbers as input and returns the sum of all the elements in the list. <br>\n",
    "input_numbers = [1, 2, 3, 4, 5] <br>\n",
    "Sum: 15"
   ]
  },
  {
   "cell_type": "code",
   "execution_count": 2,
   "metadata": {},
   "outputs": [],
   "source": [
    "def list_sum(input_numbers):\n",
    "    return sum(input_numbers)\n",
    "    "
   ]
  },
  {
   "cell_type": "code",
   "execution_count": 3,
   "metadata": {},
   "outputs": [
    {
     "name": "stdout",
     "output_type": "stream",
     "text": [
      "sum of number 15 \n"
     ]
    }
   ],
   "source": [
    "input_numbers = [1,2,3,4,5]\n",
    "result =sum(input_numbers)\n",
    "print(f\"sum of number {result} \")"
   ]
  },
  {
   "cell_type": "markdown",
   "metadata": {},
   "source": [
    "# Problem 2: List Reversal"
   ]
  },
  {
   "cell_type": "markdown",
   "metadata": {},
   "source": [
    "Create a function that reverses a given list and returns the reversed list. <br>\n",
    "original_list = [10, 20, 30, 40, 50] <br>\n",
    "Reversed List: [50, 40, 30, 20, 10]\n"
   ]
  },
  {
   "cell_type": "code",
   "execution_count": 4,
   "metadata": {},
   "outputs": [],
   "source": [
    "def List_Reversal(original_list):\n",
    "    return original_list[::-1]\n",
    "    "
   ]
  },
  {
   "cell_type": "code",
   "execution_count": 5,
   "metadata": {},
   "outputs": [
    {
     "name": "stdout",
     "output_type": "stream",
     "text": [
      "reversed list <list_reverseiterator object at 0x0000029E4C31F2B0>\n"
     ]
    }
   ],
   "source": [
    "originsl_list = [10,20,30,40,50]\n",
    "reversed_list = reversed(originsl_list)\n",
    "print(\"reversed list\",reversed_list)"
   ]
  },
  {
   "cell_type": "code",
   "execution_count": 7,
   "metadata": {},
   "outputs": [
    {
     "name": "stdout",
     "output_type": "stream",
     "text": [
      "Reversed List: [50, 40, 30, 20, 10]\n"
     ]
    }
   ],
   "source": [
    "def reverse_list(original_list):\n",
    "    return original_list[::-1]\n",
    "\n",
    "# Udaharan\n",
    "original_list = [10, 20, 30, 40, 50]\n",
    "reversed_list = reverse_list(original_list)\n",
    "print(\"Reversed List:\", reversed_list)"
   ]
  },
  {
   "cell_type": "markdown",
   "metadata": {},
   "source": [
    "# Problem 3: List Even Numbers"
   ]
  },
  {
   "cell_type": "markdown",
   "metadata": {},
   "source": [
    "Write a function that takes a list of integers as input and returns a new list containing only the even numbers. <br>\n",
    "numbers = [1, 2, 3, 4, 5, 6, 7, 8, 9, 10] <br>\n",
    "Even Numbers: [2, 4, 6, 8, 10]"
   ]
  },
  {
   "cell_type": "code",
   "execution_count": 1,
   "metadata": {},
   "outputs": [
    {
     "name": "stdout",
     "output_type": "stream",
     "text": [
      "Even Numbers: [2, 4, 6, 8, 10]\n"
     ]
    }
   ],
   "source": [
    "def filter_even_numbers(numbers):\n",
    "    return [num for num in numbers if num % 2 == 0]\n",
    "\n",
    "# Example usage\n",
    "numbers = [1, 2, 3, 4, 5, 6, 7, 8, 9, 10]\n",
    "even_numbers = filter_even_numbers(numbers)\n",
    "print(\"Even Numbers:\", even_numbers)\n"
   ]
  },
  {
   "cell_type": "markdown",
   "metadata": {},
   "source": [
    "# Problem 4: List Duplicates"
   ]
  },
  {
   "cell_type": "markdown",
   "metadata": {},
   "source": [
    "Create a function that finds and returns a list of unique elements from a given list. <br>\n",
    "elements = [1, 2, 2, 3, 4, 4, 5] <br>\n",
    "Unique Elements: [1, 2, 3, 4, 5]"
   ]
  },
  {
   "cell_type": "code",
   "execution_count": 2,
   "metadata": {},
   "outputs": [
    {
     "name": "stdout",
     "output_type": "stream",
     "text": [
      "Unique Elements: [1, 2, 3, 4, 5]\n"
     ]
    }
   ],
   "source": [
    "def unique_elements(elements):\n",
    "    return list(set(elements))\n",
    "\n",
    "# উদাহরণ ব্যবহার\n",
    "elements = [1, 2, 2, 3, 4, 4, 5]\n",
    "unique_elements_list = unique_elements(elements)\n",
    "print(\"Unique Elements:\", unique_elements_list)\n"
   ]
  },
  {
   "cell_type": "markdown",
   "metadata": {},
   "source": [
    "# Problem 5: List Concatenation"
   ]
  },
  {
   "cell_type": "markdown",
   "metadata": {},
   "source": [
    "Write a function that takes two lists as input and returns a new list that is the concatenation of the two input lists. <br>\n",
    "list1 = [1, 2, 3] <br>\n",
    "list2 = [4, 5, 6] <br>\n",
    "Concatenated List: [1, 2, 3, 4, 5, 6]"
   ]
  },
  {
   "cell_type": "code",
   "execution_count": 1,
   "metadata": {},
   "outputs": [
    {
     "name": "stdout",
     "output_type": "stream",
     "text": [
      "Concatenated List: [1, 2, 3, 4, 5, 6]\n"
     ]
    }
   ],
   "source": [
    "def concatenate_lists(list1, list2):\n",
    "    return list1 + list2\n",
    "\n",
    "# Udaharan\n",
    "list1 = [1, 2, 3]\n",
    "list2 = [4, 5, 6]\n",
    "concatenated_list = concatenate_lists(list1, list2)\n",
    "print(\"Concatenated List:\", concatenated_list)\n"
   ]
  }
 ],
 "metadata": {
  "kernelspec": {
   "display_name": "myenv",
   "language": "python",
   "name": "python3"
  },
  "language_info": {
   "codemirror_mode": {
    "name": "ipython",
    "version": 3
   },
   "file_extension": ".py",
   "mimetype": "text/x-python",
   "name": "python",
   "nbconvert_exporter": "python",
   "pygments_lexer": "ipython3",
   "version": "3.13.1"
  }
 },
 "nbformat": 4,
 "nbformat_minor": 2
}
